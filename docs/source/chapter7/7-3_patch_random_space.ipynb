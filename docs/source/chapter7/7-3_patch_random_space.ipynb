{
 "metadata": {
  "language_info": {
   "codemirror_mode": {
    "name": "ipython",
    "version": 3
   },
   "file_extension": ".py",
   "mimetype": "text/x-python",
   "name": "python",
   "nbconvert_exporter": "python",
   "pygments_lexer": "ipython3",
   "version": 3
  },
  "orig_nbformat": 2
 },
 "nbformat": 4,
 "nbformat_minor": 2,
 "cells": [
  {
   "source": [
    "# 7.3 随机补丁和随机空间"
   ],
   "cell_type": "markdown",
   "metadata": {}
  },
  {
   "source": [
    "BaggingClassifier类也支持对特征进行采样。采样由两个超参数控制：`max_features`和`bootstrap_features`。它们的工作方式与`max_samples`和`bootstrap`相同，但用于特征采样而不是实例采样。因此，每个预测器将用输入特征的随机子集进行训练。\n",
    "\n",
    "**这对于处理高维输入（例如图像）特别有用。**\n",
    "\n",
    "对训练实例和特征都进行抽样，这称为**随机补丁方法**\n",
    "\n",
    "而保留所有训练实例（即`bootstrap=False`并且`max_samples=1.0`）但是对特征进行抽样（即`bootstrap_features=True`并且/或`max_features<1.0`），这被称为**随机子空间法**。\n",
    "\n",
    "\n",
    "\n",
    "\n"
   ],
   "cell_type": "markdown",
   "metadata": {}
  },
  {
   "source": [
    "**对特征抽样给预测器带来更大的多样性，所以以略高一点的偏差换取了更低的方差。**"
   ],
   "cell_type": "markdown",
   "metadata": {}
  }
 ]
}