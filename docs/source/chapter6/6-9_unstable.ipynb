{
 "metadata": {
  "language_info": {
   "codemirror_mode": {
    "name": "ipython",
    "version": 3
   },
   "file_extension": ".py",
   "mimetype": "text/x-python",
   "name": "python",
   "nbconvert_exporter": "python",
   "pygments_lexer": "ipython3",
   "version": 3
  },
  "orig_nbformat": 2
 },
 "nbformat": 4,
 "nbformat_minor": 2,
 "cells": [
  {
   "source": [
    "# 6.9 不确定性\n",
    "决策树有很多的用处：它们易于理解和解释、易于使用、用途广泛且功能强大。但是，他们确实有一些局限性。**首先，决策树喜欢正交的决策边界（所有分割都垂直与轴），这使得它们对训练集旋转敏感。更概括的说，决策树的主要问题是它们对训练数据中的小变化非常敏感。**"
   ],
   "cell_type": "markdown",
   "metadata": {}
  },
  {
   "source": [
    "Scikit-Learn所使用的算法是随机的，即使是在相同的训练数据上，你也可能得到完全不同的模型（除非你对超参数random_state进行设置）"
   ],
   "cell_type": "markdown",
   "metadata": {}
  },
  {
   "source": [
    "**随机森林可以通过对许多树进行平均预测来限制这种不稳定性**"
   ],
   "cell_type": "markdown",
   "metadata": {}
  }
 ]
}