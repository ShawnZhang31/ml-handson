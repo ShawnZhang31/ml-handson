{
 "metadata": {
  "language_info": {
   "codemirror_mode": {
    "name": "ipython",
    "version": 3
   },
   "file_extension": ".py",
   "mimetype": "text/x-python",
   "name": "python",
   "nbconvert_exporter": "python",
   "pygments_lexer": "ipython3",
   "version": "3.7.4-final"
  },
  "orig_nbformat": 2,
  "kernelspec": {
   "name": "python3",
   "display_name": "Python 3.7.4 64-bit ('venv')",
   "metadata": {
    "interpreter": {
     "hash": "e284c72d79b42194b3fe2a0767ff9cca6d233ae03063bab113c99e4bc6bd25a8"
    }
   }
  }
 },
 "nbformat": 4,
 "nbformat_minor": 2,
 "cells": [
  {
   "source": [
    "# 6.9 不稳定性\n",
    "\n",
    "决策树有很多用处：  \n",
    "- 易于理解和解释\n",
    "- 易于使用\n",
    "- 用途广泛且功能强大\n",
    "\n",
    "不过决策树也有一些局限：  \n",
    "- 决策树喜欢正交的决策边界（所有分割对垂直于轴），这使得决策树对训练集特别敏感\n",
    "- 更概括的说，决策树的主要问题是对训练数据中的小变化非常敏感。\n",
    "- 事实上，由于Scikit-Learn所使用的算法是随机的，及时是在相同的训练数据上，也可能得到完全不同的模型（**除非你对超参数random_state进行设置**）\n",
    "\n",
    "**随机森林可以通过对许多树进行平均预测来限制这种不稳定性。**\n",
    "\n",
    "\n"
   ],
   "cell_type": "markdown",
   "metadata": {}
  }
 ]
}