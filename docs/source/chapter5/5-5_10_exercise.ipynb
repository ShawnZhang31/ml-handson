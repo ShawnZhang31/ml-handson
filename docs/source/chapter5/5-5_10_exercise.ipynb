{
 "metadata": {
  "language_info": {
   "codemirror_mode": {
    "name": "ipython",
    "version": 3
   },
   "file_extension": ".py",
   "mimetype": "text/x-python",
   "name": "python",
   "nbconvert_exporter": "python",
   "pygments_lexer": "ipython3",
   "version": "3.7.4-final"
  },
  "orig_nbformat": 2,
  "kernelspec": {
   "name": "python3",
   "display_name": "Python 3"
  }
 },
 "nbformat": 4,
 "nbformat_minor": 2,
 "cells": [
  {
   "source": [
    "# 5.5 课后练习10\n",
    "\n",
    "使用SVM回归预测California的房价"
   ],
   "cell_type": "markdown",
   "metadata": {}
  },
  {
   "cell_type": "code",
   "execution_count": 1,
   "metadata": {},
   "outputs": [
    {
     "output_type": "execute_result",
     "data": {
      "text/plain": [
       "dict_keys(['data', 'target', 'frame', 'target_names', 'feature_names', 'DESCR'])"
      ]
     },
     "metadata": {},
     "execution_count": 1
    }
   ],
   "source": [
    "from sklearn.datasets import fetch_california_housing\n",
    "housing = fetch_california_housing()\n",
    "housing.keys()"
   ]
  },
  {
   "cell_type": "code",
   "execution_count": 2,
   "metadata": {},
   "outputs": [
    {
     "output_type": "execute_result",
     "data": {
      "text/plain": [
       "'.. _california_housing_dataset:\\n\\nCalifornia Housing dataset\\n--------------------------\\n\\n**Data Set Characteristics:**\\n\\n    :Number of Instances: 20640\\n\\n    :Number of Attributes: 8 numeric, predictive attributes and the target\\n\\n    :Attribute Information:\\n        - MedInc        median income in block\\n        - HouseAge      median house age in block\\n        - AveRooms      average number of rooms\\n        - AveBedrms     average number of bedrooms\\n        - Population    block population\\n        - AveOccup      average house occupancy\\n        - Latitude      house block latitude\\n        - Longitude     house block longitude\\n\\n    :Missing Attribute Values: None\\n\\nThis dataset was obtained from the StatLib repository.\\nhttp://lib.stat.cmu.edu/datasets/\\n\\nThe target variable is the median house value for California districts.\\n\\nThis dataset was derived from the 1990 U.S. census, using one row per census\\nblock group. A block group is the smallest geographical unit for which the U.S.\\nCensus Bureau publishes sample data (a block group typically has a population\\nof 600 to 3,000 people).\\n\\nIt can be downloaded/loaded using the\\n:func:`sklearn.datasets.fetch_california_housing` function.\\n\\n.. topic:: References\\n\\n    - Pace, R. Kelley and Ronald Barry, Sparse Spatial Autoregressions,\\n      Statistics and Probability Letters, 33 (1997) 291-297\\n'"
      ]
     },
     "metadata": {},
     "execution_count": 2
    }
   ],
   "source": [
    "housing['DESCR']"
   ]
  },
  {
   "cell_type": "code",
   "execution_count": 3,
   "metadata": {},
   "outputs": [],
   "source": [
    "# 拆分为训练集和测试集\n",
    "from sklearn.model_selection import train_test_split\n",
    "X = housing['data']\n",
    "y = housing['target']\n",
    "X_train, X_test, y_train, y_test = train_test_split(X, y, test_size=0.2, random_state=42)"
   ]
  },
  {
   "cell_type": "code",
   "execution_count": 4,
   "metadata": {},
   "outputs": [],
   "source": [
    "# 不要忘记归一化\n",
    "from sklearn.preprocessing import StandardScaler"
   ]
  },
  {
   "cell_type": "code",
   "execution_count": 5,
   "metadata": {},
   "outputs": [],
   "source": [
    "scaler = StandardScaler()\n",
    "X_train_scaled = scaler.fit_transform(X_train)\n",
    "X_test_scaled = scaler.transform(X_test)"
   ]
  },
  {
   "source": [
    "先使用`LinearSVR`试试"
   ],
   "cell_type": "markdown",
   "metadata": {}
  },
  {
   "cell_type": "code",
   "execution_count": 6,
   "metadata": {},
   "outputs": [],
   "source": [
    "from sklearn.svm import LinearSVR"
   ]
  },
  {
   "cell_type": "code",
   "execution_count": 7,
   "metadata": {},
   "outputs": [
    {
     "output_type": "execute_result",
     "data": {
      "text/plain": [
       "LinearSVR(random_state=42)"
      ]
     },
     "metadata": {},
     "execution_count": 7
    }
   ],
   "source": [
    "lin_svr = LinearSVR(random_state=42)\n",
    "lin_svr.fit(X_train_scaled, y_train)"
   ]
  },
  {
   "cell_type": "code",
   "execution_count": 8,
   "metadata": {},
   "outputs": [],
   "source": [
    "from sklearn.metrics import mean_squared_error"
   ]
  },
  {
   "cell_type": "code",
   "execution_count": 9,
   "metadata": {},
   "outputs": [
    {
     "output_type": "execute_result",
     "data": {
      "text/plain": [
       "0.9641780189948642"
      ]
     },
     "metadata": {},
     "execution_count": 9
    }
   ],
   "source": [
    "y_pred = lin_svr.predict(X_train_scaled)\n",
    "mse = mean_squared_error(y_train, y_pred)\n",
    "mse"
   ]
  },
  {
   "source": [
    "看看RMSE的值"
   ],
   "cell_type": "markdown",
   "metadata": {}
  },
  {
   "cell_type": "code",
   "execution_count": 10,
   "metadata": {},
   "outputs": [
    {
     "output_type": "execute_result",
     "data": {
      "text/plain": [
       "0.9819256687727764"
      ]
     },
     "metadata": {},
     "execution_count": 10
    }
   ],
   "source": [
    "import numpy as np\n",
    "np.sqrt(mse)"
   ]
  },
  {
   "source": [
    "在训练集中，targets是千为单位的。RMSE可以粗略的看出期望的误差：在这个模型中我们快成看出期望的误差是1000美金。模型的表现可以说是相当的烂。下面我们看看RBF核是不是可以表现的好一点"
   ],
   "cell_type": "markdown",
   "metadata": {}
  },
  {
   "cell_type": "code",
   "execution_count": 11,
   "metadata": {},
   "outputs": [],
   "source": [
    "from sklearn.svm import SVR\n",
    "from scipy.stats import reciprocal, uniform\n",
    "from sklearn.model_selection import RandomizedSearchCV"
   ]
  },
  {
   "cell_type": "code",
   "execution_count": 12,
   "metadata": {},
   "outputs": [
    {
     "output_type": "stream",
     "name": "stdout",
     "text": [
      "Fitting 3 folds for each of 10 candidates, totalling 30 fits\n",
      "[CV] C=4.745401188473625, gamma=0.07969454818643928 ..................\n",
      "[Parallel(n_jobs=1)]: Using backend SequentialBackend with 1 concurrent workers.\n",
      "[CV] ... C=4.745401188473625, gamma=0.07969454818643928, total=   8.2s\n",
      "[CV] C=4.745401188473625, gamma=0.07969454818643928 ..................\n",
      "[Parallel(n_jobs=1)]: Done   1 out of   1 | elapsed:    8.2s remaining:    0.0s\n",
      "[CV] ... C=4.745401188473625, gamma=0.07969454818643928, total=   9.3s\n",
      "[CV] C=4.745401188473625, gamma=0.07969454818643928 ..................\n",
      "[CV] ... C=4.745401188473625, gamma=0.07969454818643928, total=   8.9s\n",
      "[CV] C=8.31993941811405, gamma=0.015751320499779724 ..................\n",
      "[CV] ... C=8.31993941811405, gamma=0.015751320499779724, total=   8.0s\n",
      "[CV] C=8.31993941811405, gamma=0.015751320499779724 ..................\n",
      "[CV] ... C=8.31993941811405, gamma=0.015751320499779724, total=   7.7s\n",
      "[CV] C=8.31993941811405, gamma=0.015751320499779724 ..................\n",
      "[CV] ... C=8.31993941811405, gamma=0.015751320499779724, total=   7.1s\n",
      "[CV] C=2.560186404424365, gamma=0.002051110418843397 .................\n",
      "[CV] .. C=2.560186404424365, gamma=0.002051110418843397, total=   6.8s\n",
      "[CV] C=2.560186404424365, gamma=0.002051110418843397 .................\n",
      "[CV] .. C=2.560186404424365, gamma=0.002051110418843397, total=   6.6s\n",
      "[CV] C=2.560186404424365, gamma=0.002051110418843397 .................\n",
      "[CV] .. C=2.560186404424365, gamma=0.002051110418843397, total=   6.2s\n",
      "[CV] C=1.5808361216819946, gamma=0.05399484409787431 .................\n",
      "[CV] .. C=1.5808361216819946, gamma=0.05399484409787431, total=   7.1s\n",
      "[CV] C=1.5808361216819946, gamma=0.05399484409787431 .................\n",
      "[CV] .. C=1.5808361216819946, gamma=0.05399484409787431, total=   7.2s\n",
      "[CV] C=1.5808361216819946, gamma=0.05399484409787431 .................\n",
      "[CV] .. C=1.5808361216819946, gamma=0.05399484409787431, total=   6.2s\n",
      "[CV] C=7.011150117432088, gamma=0.026070247583707663 .................\n",
      "[CV] .. C=7.011150117432088, gamma=0.026070247583707663, total=   7.1s\n",
      "[CV] C=7.011150117432088, gamma=0.026070247583707663 .................\n",
      "[CV] .. C=7.011150117432088, gamma=0.026070247583707663, total=   7.3s\n",
      "[CV] C=7.011150117432088, gamma=0.026070247583707663 .................\n",
      "[CV] .. C=7.011150117432088, gamma=0.026070247583707663, total=   7.3s\n",
      "[CV] C=1.2058449429580245, gamma=0.0870602087830485 ..................\n",
      "[CV] ... C=1.2058449429580245, gamma=0.0870602087830485, total=   6.3s\n",
      "[CV] C=1.2058449429580245, gamma=0.0870602087830485 ..................\n",
      "[CV] ... C=1.2058449429580245, gamma=0.0870602087830485, total=   6.4s\n",
      "[CV] C=1.2058449429580245, gamma=0.0870602087830485 ..................\n",
      "[CV] ... C=1.2058449429580245, gamma=0.0870602087830485, total=   6.4s\n",
      "[CV] C=9.324426408004218, gamma=0.0026587543983272693 ................\n",
      "[CV] . C=9.324426408004218, gamma=0.0026587543983272693, total=   6.5s\n",
      "[CV] C=9.324426408004218, gamma=0.0026587543983272693 ................\n",
      "[CV] . C=9.324426408004218, gamma=0.0026587543983272693, total=   6.6s\n",
      "[CV] C=9.324426408004218, gamma=0.0026587543983272693 ................\n",
      "[CV] . C=9.324426408004218, gamma=0.0026587543983272693, total=   6.4s\n",
      "[CV] C=2.818249672071006, gamma=0.0023270677083837795 ................\n",
      "[CV] . C=2.818249672071006, gamma=0.0023270677083837795, total=   6.7s\n",
      "[CV] C=2.818249672071006, gamma=0.0023270677083837795 ................\n",
      "[CV] . C=2.818249672071006, gamma=0.0023270677083837795, total=   6.4s\n",
      "[CV] C=2.818249672071006, gamma=0.0023270677083837795 ................\n",
      "[CV] . C=2.818249672071006, gamma=0.0023270677083837795, total=   6.7s\n",
      "[CV] C=4.042422429595377, gamma=0.011207606211860567 .................\n",
      "[CV] .. C=4.042422429595377, gamma=0.011207606211860567, total=   6.8s\n",
      "[CV] C=4.042422429595377, gamma=0.011207606211860567 .................\n",
      "[CV] .. C=4.042422429595377, gamma=0.011207606211860567, total=   7.7s\n",
      "[CV] C=4.042422429595377, gamma=0.011207606211860567 .................\n",
      "[CV] .. C=4.042422429595377, gamma=0.011207606211860567, total=   7.4s\n",
      "[CV] C=5.319450186421157, gamma=0.003823475224675185 .................\n",
      "[CV] .. C=5.319450186421157, gamma=0.003823475224675185, total=   5.9s\n",
      "[CV] C=5.319450186421157, gamma=0.003823475224675185 .................\n",
      "[CV] .. C=5.319450186421157, gamma=0.003823475224675185, total=   6.1s\n",
      "[CV] C=5.319450186421157, gamma=0.003823475224675185 .................\n",
      "[CV] .. C=5.319450186421157, gamma=0.003823475224675185, total=   6.0s\n",
      "[Parallel(n_jobs=1)]: Done  30 out of  30 | elapsed:  3.5min finished\n"
     ]
    },
    {
     "output_type": "execute_result",
     "data": {
      "text/plain": [
       "RandomizedSearchCV(cv=3, estimator=SVR(),\n",
       "                   param_distributions={'C': <scipy.stats._distn_infrastructure.rv_frozen object at 0x7fc770caf810>,\n",
       "                                        'gamma': <scipy.stats._distn_infrastructure.rv_frozen object at 0x7fc770cafad0>},\n",
       "                   random_state=42, verbose=2)"
      ]
     },
     "metadata": {},
     "execution_count": 12
    }
   ],
   "source": [
    "param_distributions = {'gamma':reciprocal(0.001, 0.1), 'C':uniform(1, 10)}\n",
    "rnd_search_cv = RandomizedSearchCV(SVR(), param_distributions=param_distributions, n_iter=10, verbose=2, cv=3, random_state=42)\n",
    "rnd_search_cv.fit(X_train_scaled, y_train)"
   ]
  },
  {
   "cell_type": "code",
   "execution_count": 16,
   "metadata": {},
   "outputs": [
    {
     "output_type": "execute_result",
     "data": {
      "text/plain": [
       "SVR(C=4.745401188473625, gamma=0.07969454818643928)"
      ]
     },
     "metadata": {},
     "execution_count": 16
    }
   ],
   "source": [
    "rnd_search_cv.best_estimator_"
   ]
  },
  {
   "cell_type": "code",
   "execution_count": 17,
   "metadata": {},
   "outputs": [
    {
     "output_type": "execute_result",
     "data": {
      "text/plain": [
       "0.5727524770785359"
      ]
     },
     "metadata": {},
     "execution_count": 17
    }
   ],
   "source": [
    "y_pred = rnd_search_cv.best_estimator_.predict(X_train_scaled)\n",
    "mse = mean_squared_error(y_train, y_pred)\n",
    "np.sqrt(mse)"
   ]
  },
  {
   "source": [
    "看起来要比`LinearSVR`好些了，在测试集上测试一下"
   ],
   "cell_type": "markdown",
   "metadata": {}
  },
  {
   "cell_type": "code",
   "execution_count": 18,
   "metadata": {},
   "outputs": [
    {
     "output_type": "execute_result",
     "data": {
      "text/plain": [
       "0.5929168385528734"
      ]
     },
     "metadata": {},
     "execution_count": 18
    }
   ],
   "source": [
    "y_pred = rnd_search_cv.best_estimator_.predict(X_test_scaled)\n",
    "mse = mean_squared_error(y_test, y_pred)\n",
    "np.sqrt(mse)"
   ]
  },
  {
   "cell_type": "code",
   "execution_count": null,
   "metadata": {},
   "outputs": [],
   "source": []
  }
 ]
}