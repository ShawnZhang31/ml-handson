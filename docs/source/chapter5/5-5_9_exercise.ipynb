{
 "metadata": {
  "language_info": {
   "codemirror_mode": {
    "name": "ipython",
    "version": 3
   },
   "file_extension": ".py",
   "mimetype": "text/x-python",
   "name": "python",
   "nbconvert_exporter": "python",
   "pygments_lexer": "ipython3",
   "version": "3.7.4-final"
  },
  "orig_nbformat": 2,
  "kernelspec": {
   "name": "python3",
   "display_name": "Python 3"
  }
 },
 "nbformat": 4,
 "nbformat_minor": 2,
 "cells": [
  {
   "source": [
    "# 5-5 课后练习9\n",
    "\n",
    "在MNIST数据集上训练SVM分类器。由于SVM分类器是一个二元分类器，所以你需要使用一对多为10个数字进行分类。你可能还需要使用小型验证集来调整超参数以加快进度。看看最后的准确率是多少？"
   ],
   "cell_type": "markdown",
   "metadata": {}
  },
  {
   "source": [
    "我们可以使用`train_test_split()`方法拆分训练集和测试集，不过在往往大家使用前60000个图像作为训练集，使用后面的10000个图像作为测试集，这样的拆分是为了方便和其他的模型进行性能比较"
   ],
   "cell_type": "markdown",
   "metadata": {}
  },
  {
   "cell_type": "code",
   "execution_count": 1,
   "metadata": {},
   "outputs": [],
   "source": [
    "from sklearn.datasets import fetch_openml\n",
    "import matplotlib\n",
    "import matplotlib.pyplot as plt"
   ]
  },
  {
   "cell_type": "code",
   "execution_count": 2,
   "metadata": {},
   "outputs": [
    {
     "output_type": "execute_result",
     "data": {
      "text/plain": [
       "dict_keys(['data', 'target', 'frame', 'categories', 'feature_names', 'target_names', 'DESCR', 'details', 'url'])"
      ]
     },
     "metadata": {},
     "execution_count": 2
    }
   ],
   "source": [
    "mnist = fetch_openml('mnist_784', version=1, cache=True)\n",
    "mnist.keys()"
   ]
  },
  {
   "cell_type": "code",
   "execution_count": 3,
   "metadata": {},
   "outputs": [
    {
     "output_type": "execute_result",
     "data": {
      "text/plain": [
       "\"**Author**: Yann LeCun, Corinna Cortes, Christopher J.C. Burges  \\n**Source**: [MNIST Website](http://yann.lecun.com/exdb/mnist/) - Date unknown  \\n**Please cite**:  \\n\\nThe MNIST database of handwritten digits with 784 features, raw data available at: http://yann.lecun.com/exdb/mnist/. It can be split in a training set of the first 60,000 examples, and a test set of 10,000 examples  \\n\\nIt is a subset of a larger set available from NIST. The digits have been size-normalized and centered in a fixed-size image. It is a good database for people who want to try learning techniques and pattern recognition methods on real-world data while spending minimal efforts on preprocessing and formatting. The original black and white (bilevel) images from NIST were size normalized to fit in a 20x20 pixel box while preserving their aspect ratio. The resulting images contain grey levels as a result of the anti-aliasing technique used by the normalization algorithm. the images were centered in a 28x28 image by computing the center of mass of the pixels, and translating the image so as to position this point at the center of the 28x28 field.  \\n\\nWith some classification methods (particularly template-based methods, such as SVM and K-nearest neighbors), the error rate improves when the digits are centered by bounding box rather than center of mass. If you do this kind of pre-processing, you should report it in your publications. The MNIST database was constructed from NIST's NIST originally designated SD-3 as their training set and SD-1 as their test set. However, SD-3 is much cleaner and easier to recognize than SD-1. The reason for this can be found on the fact that SD-3 was collected among Census Bureau employees, while SD-1 was collected among high-school students. Drawing sensible conclusions from learning experiments requires that the result be independent of the choice of training set and test among the complete set of samples. Therefore it was necessary to build a new database by mixing NIST's datasets.  \\n\\nThe MNIST training set is composed of 30,000 patterns from SD-3 and 30,000 patterns from SD-1. Our test set was composed of 5,000 patterns from SD-3 and 5,000 patterns from SD-1. The 60,000 pattern training set contained examples from approximately 250 writers. We made sure that the sets of writers of the training set and test set were disjoint. SD-1 contains 58,527 digit images written by 500 different writers. In contrast to SD-3, where blocks of data from each writer appeared in sequence, the data in SD-1 is scrambled. Writer identities for SD-1 is available and we used this information to unscramble the writers. We then split SD-1 in two: characters written by the first 250 writers went into our new training set. The remaining 250 writers were placed in our test set. Thus we had two sets with nearly 30,000 examples each. The new training set was completed with enough examples from SD-3, starting at pattern # 0, to make a full set of 60,000 training patterns. Similarly, the new test set was completed with SD-3 examples starting at pattern # 35,000 to make a full set with 60,000 test patterns. Only a subset of 10,000 test images (5,000 from SD-1 and 5,000 from SD-3) is available on this site. The full 60,000 sample training set is available.\\n\\nDownloaded from openml.org.\""
      ]
     },
     "metadata": {},
     "execution_count": 3
    }
   ],
   "source": [
    "mnist.DESCR"
   ]
  },
  {
   "cell_type": "code",
   "execution_count": 4,
   "metadata": {},
   "outputs": [],
   "source": [
    "import numpy as np\n",
    "X = mnist['data']\n",
    "y = mnist['target'].astype(np.uint8)\n",
    "\n",
    "X_train = X[:60000]\n",
    "y_train = y[:60000]\n",
    "X_test = X[60000:]\n",
    "y_test = y[60000:]"
   ]
  },
  {
   "cell_type": "code",
   "execution_count": 5,
   "metadata": {},
   "outputs": [
    {
     "output_type": "execute_result",
     "data": {
      "text/plain": [
       "array([5, 0, 4, 1, 9, 2, 1, 3, 1, 4], dtype=uint8)"
      ]
     },
     "metadata": {},
     "execution_count": 5
    }
   ],
   "source": [
    "y[:10]"
   ]
  },
  {
   "source": [
    "许多算法对训练集的示例的顺序是非常敏感的，所以一般需要先将训练数据集洗牌。不过该数据集已经清晰过了，不需要在清晰了。\n",
    "\n",
    "首先，使用最最简单的SVM Classifier分类器，这个分类器自动实现了了OvA(OvR)策略，无需额外做任何工作\n",
    "\n"
   ],
   "cell_type": "markdown",
   "metadata": {}
  },
  {
   "cell_type": "code",
   "execution_count": 6,
   "metadata": {},
   "outputs": [
    {
     "output_type": "execute_result",
     "data": {
      "text/plain": [
       "LinearSVC(random_state=42)"
      ]
     },
     "metadata": {},
     "execution_count": 6
    }
   ],
   "source": [
    "from sklearn.svm import LinearSVC\n",
    "lin_clf = LinearSVC(random_state=42)\n",
    "lin_clf.fit(X_train, y_train)"
   ]
  },
  {
   "source": [
    "在训练集上测量模型的acc，由于我们还没有选择和训练最终的模型，所以我们暂时不要在测试集上进行测量"
   ],
   "cell_type": "markdown",
   "metadata": {}
  },
  {
   "cell_type": "code",
   "execution_count": 7,
   "metadata": {},
   "outputs": [
    {
     "output_type": "execute_result",
     "data": {
      "text/plain": [
       "0.8348666666666666"
      ]
     },
     "metadata": {},
     "execution_count": 7
    }
   ],
   "source": [
    "from sklearn.metrics import accuracy_score\n",
    "y_pred = lin_clf.predict(X_train)\n",
    "accuracy_score(y_train, y_pred)"
   ]
  },
  {
   "source": [
    "对于MNIST来说，83.38%的acc是很差的，线性模型对于MNIST来说太差了，不过我们可以尝试一下将数据进行一下缩放"
   ],
   "cell_type": "markdown",
   "metadata": {}
  },
  {
   "cell_type": "code",
   "execution_count": 8,
   "metadata": {},
   "outputs": [],
   "source": [
    "from sklearn.preprocessing import StandardScaler\n",
    "scaler = StandardScaler()\n",
    "X_train_scaled = scaler.fit_transform(X_train.astype(np.float32))\n",
    "X_test_scaled = scaler.transform(X_test.astype(np.float32))"
   ]
  },
  {
   "cell_type": "code",
   "execution_count": 10,
   "metadata": {},
   "outputs": [
    {
     "output_type": "execute_result",
     "data": {
      "text/plain": [
       "LinearSVC(random_state=42)"
      ]
     },
     "metadata": {},
     "execution_count": 10
    }
   ],
   "source": [
    "lin_clf = LinearSVC(random_state=42)\n",
    "lin_clf.fit(X_train_scaled, y_train)\n"
   ]
  },
  {
   "cell_type": "code",
   "execution_count": 11,
   "metadata": {},
   "outputs": [
    {
     "output_type": "execute_result",
     "data": {
      "text/plain": [
       "0.9217333333333333"
      ]
     },
     "metadata": {},
     "execution_count": 11
    }
   ],
   "source": [
    "y_pred = lin_clf.predict(X_train_scaled)\n",
    "accuracy_score(y_train, y_pred)"
   ]
  },
  {
   "source": [
    "进行一个简单的正则化一下子acc提高到了92.17%，但是都是MNIST这样的数据集来说依然不够好。\n",
    "\n",
    "如果我们要使用一个SVM的话，需要有一个核，可以尝试一个SVC模型的RBF核"
   ],
   "cell_type": "markdown",
   "metadata": {}
  },
  {
   "cell_type": "code",
   "execution_count": 12,
   "metadata": {},
   "outputs": [
    {
     "output_type": "execute_result",
     "data": {
      "text/plain": [
       "SVC()"
      ]
     },
     "metadata": {},
     "execution_count": 12
    }
   ],
   "source": [
    "from sklearn.svm import SVC\n",
    "\n",
    "svm_clf = SVC(gamma='scale')\n",
    "svm_clf.fit(X_train_scaled[:10000], y_train[:10000])\n"
   ]
  },
  {
   "cell_type": "code",
   "execution_count": 13,
   "metadata": {},
   "outputs": [
    {
     "output_type": "execute_result",
     "data": {
      "text/plain": [
       "0.9217333333333333"
      ]
     },
     "metadata": {},
     "execution_count": 13
    }
   ],
   "source": [
    "y_pred = lin_clf.predict(X_train_scaled)\n",
    "accuracy_score(y_train, y_pred)"
   ]
  },
  {
   "source": [
    "上面我们使用的训练数据只是LinearSVC的六分之一，但是精确度却相当，所以是有希望进行微调来优化的。可以尝试一下随机搜索。"
   ],
   "cell_type": "markdown",
   "metadata": {}
  },
  {
   "cell_type": "code",
   "execution_count": 14,
   "metadata": {},
   "outputs": [
    {
     "output_type": "stream",
     "name": "stdout",
     "text": [
      "Fitting 3 folds for each of 10 candidates, totalling 30 fits\n",
      "[CV] C=10.857913608904475, gamma=0.05400428325793935 .................\n",
      "[Parallel(n_jobs=1)]: Using backend SequentialBackend with 1 concurrent workers.\n",
      "[CV] .. C=10.857913608904475, gamma=0.05400428325793935, total= 1.6min\n",
      "[CV] C=10.857913608904475, gamma=0.05400428325793935 .................\n",
      "[Parallel(n_jobs=1)]: Done   1 out of   1 | elapsed:  1.6min remaining:    0.0s\n",
      "[CV] .. C=10.857913608904475, gamma=0.05400428325793935, total= 1.8min\n",
      "[CV] C=10.857913608904475, gamma=0.05400428325793935 .................\n",
      "[CV] .. C=10.857913608904475, gamma=0.05400428325793935, total= 2.0min\n",
      "[CV] C=7.779125198526879, gamma=0.0016773371141783062 ................\n",
      "[CV] . C=7.779125198526879, gamma=0.0016773371141783062, total=  30.0s\n",
      "[CV] C=7.779125198526879, gamma=0.0016773371141783062 ................\n",
      "[CV] . C=7.779125198526879, gamma=0.0016773371141783062, total=  29.1s\n",
      "[CV] C=7.779125198526879, gamma=0.0016773371141783062 ................\n",
      "[CV] . C=7.779125198526879, gamma=0.0016773371141783062, total=  30.7s\n",
      "[CV] C=6.578025432118354, gamma=0.010544769404567864 .................\n",
      "[CV] .. C=6.578025432118354, gamma=0.010544769404567864, total= 1.6min\n",
      "[CV] C=6.578025432118354, gamma=0.010544769404567864 .................\n",
      "[CV] .. C=6.578025432118354, gamma=0.010544769404567864, total= 1.6min\n",
      "[CV] C=6.578025432118354, gamma=0.010544769404567864 .................\n",
      "[CV] .. C=6.578025432118354, gamma=0.010544769404567864, total= 1.5min\n",
      "[CV] C=10.744611313642467, gamma=0.0011243399627118532 ...............\n",
      "[CV]  C=10.744611313642467, gamma=0.0011243399627118532, total=  27.2s\n",
      "[CV] C=10.744611313642467, gamma=0.0011243399627118532 ...............\n",
      "[CV]  C=10.744611313642467, gamma=0.0011243399627118532, total=  26.1s\n",
      "[CV] C=10.744611313642467, gamma=0.0011243399627118532 ...............\n",
      "[CV]  C=10.744611313642467, gamma=0.0011243399627118532, total=  26.5s\n",
      "[CV] C=1.1193617536785896, gamma=0.005346759068249622 ................\n",
      "[CV] . C=1.1193617536785896, gamma=0.005346759068249622, total= 1.5min\n",
      "[CV] C=1.1193617536785896, gamma=0.005346759068249622 ................\n",
      "[CV] . C=1.1193617536785896, gamma=0.005346759068249622, total= 1.0min\n",
      "[CV] C=1.1193617536785896, gamma=0.005346759068249622 ................\n",
      "[CV] . C=1.1193617536785896, gamma=0.005346759068249622, total=  57.3s\n",
      "[CV] C=5.981586552596838, gamma=0.016370682035152535 .................\n",
      "[CV] .. C=5.981586552596838, gamma=0.016370682035152535, total= 1.5min\n",
      "[CV] C=5.981586552596838, gamma=0.016370682035152535 .................\n",
      "[CV] .. C=5.981586552596838, gamma=0.016370682035152535, total= 1.6min\n",
      "[CV] C=5.981586552596838, gamma=0.016370682035152535 .................\n",
      "[CV] .. C=5.981586552596838, gamma=0.016370682035152535, total= 1.5min\n",
      "[CV] C=8.64983329530747, gamma=0.0015789278410968156 .................\n",
      "[CV] .. C=8.64983329530747, gamma=0.0015789278410968156, total=  27.2s\n",
      "[CV] C=8.64983329530747, gamma=0.0015789278410968156 .................\n",
      "[CV] .. C=8.64983329530747, gamma=0.0015789278410968156, total=  27.2s\n",
      "[CV] C=8.64983329530747, gamma=0.0015789278410968156 .................\n",
      "[CV] .. C=8.64983329530747, gamma=0.0015789278410968156, total=  26.8s\n",
      "[CV] C=1.6078300040855256, gamma=0.052521820356754796 ................\n",
      "[CV] . C=1.6078300040855256, gamma=0.052521820356754796, total= 1.6min\n",
      "[CV] C=1.6078300040855256, gamma=0.052521820356754796 ................\n",
      "[CV] . C=1.6078300040855256, gamma=0.052521820356754796, total= 1.6min\n",
      "[CV] C=1.6078300040855256, gamma=0.052521820356754796 ................\n",
      "[CV] . C=1.6078300040855256, gamma=0.052521820356754796, total= 1.6min\n",
      "[CV] C=10.008119385975288, gamma=0.002261735005964153 ................\n",
      "[CV] . C=10.008119385975288, gamma=0.002261735005964153, total=  32.5s\n",
      "[CV] C=10.008119385975288, gamma=0.002261735005964153 ................\n",
      "[CV] . C=10.008119385975288, gamma=0.002261735005964153, total=  32.4s\n",
      "[CV] C=10.008119385975288, gamma=0.002261735005964153 ................\n",
      "[CV] . C=10.008119385975288, gamma=0.002261735005964153, total=  31.8s\n",
      "[CV] C=9.884730797744202, gamma=0.017833926900964567 .................\n",
      "[CV] .. C=9.884730797744202, gamma=0.017833926900964567, total= 1.5min\n",
      "[CV] C=9.884730797744202, gamma=0.017833926900964567 .................\n",
      "[CV] .. C=9.884730797744202, gamma=0.017833926900964567, total= 1.6min\n",
      "[CV] C=9.884730797744202, gamma=0.017833926900964567 .................\n",
      "[CV] .. C=9.884730797744202, gamma=0.017833926900964567, total= 1.6min\n",
      "[Parallel(n_jobs=1)]: Done  30 out of  30 | elapsed: 33.5min finished\n"
     ]
    },
    {
     "output_type": "execute_result",
     "data": {
      "text/plain": [
       "RandomizedSearchCV(cv=3, estimator=SVC(),\n",
       "                   param_distributions={'C': <scipy.stats._distn_infrastructure.rv_frozen object at 0x7fdb6809e710>,\n",
       "                                        'gamma': <scipy.stats._distn_infrastructure.rv_frozen object at 0x7fdb6809e050>},\n",
       "                   verbose=2)"
      ]
     },
     "metadata": {},
     "execution_count": 14
    }
   ],
   "source": [
    "from sklearn.model_selection import RandomizedSearchCV\n",
    "from scipy.stats import reciprocal, uniform\n",
    "\n",
    "param_distributions = {\"gamma\": reciprocal(0.001, 0.1), \"C\": uniform(1, 10)}\n",
    "rnd_search_cv = RandomizedSearchCV(svm_clf, param_distributions=param_distributions, n_iter=10, verbose=2, cv=3)\n",
    "rnd_search_cv.fit(X_train_scaled[:10000], y_train[:10000])"
   ]
  },
  {
   "cell_type": "code",
   "execution_count": 15,
   "metadata": {},
   "outputs": [
    {
     "output_type": "execute_result",
     "data": {
      "text/plain": [
       "SVC(C=10.744611313642467, gamma=0.0011243399627118532)"
      ]
     },
     "metadata": {},
     "execution_count": 15
    }
   ],
   "source": [
    "rnd_search_cv.best_estimator_"
   ]
  },
  {
   "cell_type": "code",
   "execution_count": 16,
   "metadata": {},
   "outputs": [
    {
     "output_type": "execute_result",
     "data": {
      "text/plain": [
       "0.9389998087991162"
      ]
     },
     "metadata": {},
     "execution_count": 16
    }
   ],
   "source": [
    "rnd_search_cv.best_score_"
   ]
  },
  {
   "source": [
    "这里的acc看起来比较低，但是不要忘了，我们训练的图像只有10000个。下面在整个训练集上进行训练"
   ],
   "cell_type": "markdown",
   "metadata": {}
  },
  {
   "cell_type": "code",
   "execution_count": 17,
   "metadata": {},
   "outputs": [
    {
     "output_type": "execute_result",
     "data": {
      "text/plain": [
       "SVC(C=10.744611313642467, gamma=0.0011243399627118532)"
      ]
     },
     "metadata": {},
     "execution_count": 17
    }
   ],
   "source": [
    "rnd_search_cv.best_estimator_.fit(X_train_scaled, y_train)"
   ]
  },
  {
   "cell_type": "code",
   "execution_count": 18,
   "metadata": {},
   "outputs": [
    {
     "output_type": "execute_result",
     "data": {
      "text/plain": [
       "0.9990166666666667"
      ]
     },
     "metadata": {},
     "execution_count": 18
    }
   ],
   "source": [
    "y_pred = rnd_search_cv.best_estimator_.predict(X_train_scaled)\n",
    "accuracy_score(y_train, y_pred)"
   ]
  },
  {
   "source": [
    "现在看起来不错了，可以在测试集上进行测试了"
   ],
   "cell_type": "markdown",
   "metadata": {}
  },
  {
   "cell_type": "code",
   "execution_count": 19,
   "metadata": {},
   "outputs": [
    {
     "output_type": "execute_result",
     "data": {
      "text/plain": [
       "0.9733"
      ]
     },
     "metadata": {},
     "execution_count": 19
    }
   ],
   "source": [
    "y_pred = rnd_search_cv.best_estimator_.predict(X_test_scaled)\n",
    "accuracy_score(y_test, y_pred)"
   ]
  },
  {
   "source": [
    "看起来还不错，但是在训练集的acc要大于测试集的acc，明显模型有点过拟合了。我们快成尝试减小超参数(gamma和C)，来降低正则化。但是这也会带来另外一个风险，就是在测试集上过拟合。openml上有帖子说`C=0.5`，`gamma=0.005`可以达到较好的表现(acc在98%以上)。通过在测试集上长时间的随机搜索，你可以找到最佳的参数"
   ],
   "cell_type": "markdown",
   "metadata": {}
  }
 ]
}