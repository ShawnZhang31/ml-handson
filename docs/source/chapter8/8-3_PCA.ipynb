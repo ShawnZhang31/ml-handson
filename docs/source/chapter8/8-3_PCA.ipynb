{
 "metadata": {
  "language_info": {
   "codemirror_mode": {
    "name": "ipython",
    "version": 3
   },
   "file_extension": ".py",
   "mimetype": "text/x-python",
   "name": "python",
   "nbconvert_exporter": "python",
   "pygments_lexer": "ipython3",
   "version": "3.7.4-final"
  },
  "orig_nbformat": 2,
  "kernelspec": {
   "name": "python3",
   "display_name": "Python 3.7.4 64-bit ('venv')",
   "metadata": {
    "interpreter": {
     "hash": "e284c72d79b42194b3fe2a0767ff9cca6d233ae03063bab113c99e4bc6bd25a8"
    }
   }
  }
 },
 "nbformat": 4,
 "nbformat_minor": 2,
 "cells": [
  {
   "source": [
    "# 8.3 PCA"
   ],
   "cell_type": "markdown",
   "metadata": {}
  },
  {
   "source": [
    "PCA首先识别最靠近数据的超平面，然后将数据投影到该平面上。\n",
    "\n",
    "## 8.3.1 保留差异性\n",
    "将训练集投影到低维超平面之前需要选择正确的超平面。\n"
   ],
   "cell_type": "markdown",
   "metadata": {}
  },
  {
   "source": [
    "## 8.3.2 主要成分\n",
    "\n",
    "**主成分分析可以在训练集中识别出哪条轴对差异性的贡献度最高。**  轴的数量与数据集维度数量相同。\n",
    "\n",
    "第i个轴称为数据的第i个主要成分（PC）\n",
    "\n",
    "对于每个主要成分，PCA都找到一个指向PC方向的零中心单位向量。由于两个相对的单位向量位于同一轴上，因此PCA返回的单位向量的方向不稳定：如果稍微扰动训练集并再次运行PCA，则单位向量可能会指向原始向量的相反方向。但是，它们通常仍位于相同的轴上。在某些情况下，一对单位向量甚至可以旋转或交换（如果沿这两个轴的方差接近），但是它们定义的平面通常保持不变。\n",
    "\n",
    "异值分解（SVD）的标准矩阵分解技术，可以将训练集矩阵X分解为三个矩阵$U\\sum V^T$的矩阵乘法，其中V包含定义所有主要成分的单位向量。如公式8-1所示:\n",
    "\n",
    "$$\n",
    "V = \\begin{bmatrix}\n",
    " | & | & \\cdots & | \\\\\n",
    " c_1 & c_2 & \\cdots & c_n \\\\\n",
    " | & | & \\cdots & |\n",
    " \\end{bmatrix}  \\tag{8-1}\n",
    "$$\n",
    "\n"
   ],
   "cell_type": "markdown",
   "metadata": {}
  },
  {
   "cell_type": "code",
   "execution_count": 1,
   "metadata": {},
   "outputs": [],
   "source": [
    "%matplotlib inline\n",
    "import matplotlib as mlp\n",
    "import matplotlib.pyplot as plt\n",
    "import numpy as np\n",
    "\n",
    "plt.style.use('ggplot')"
   ]
  },
  {
   "cell_type": "code",
   "execution_count": 2,
   "metadata": {},
   "outputs": [
    {
     "output_type": "execute_result",
     "data": {
      "text/plain": [
       "array([[ 0.7039474 ,  0.65945649,  0.3645693 ],\n",
       "       [-1.0763742 , -0.50036633, -0.21646923],\n",
       "       [-0.90914129,  0.22798983,  0.05968884],\n",
       "       [-0.26327638,  0.52076062,  0.31957985],\n",
       "       [ 1.10617261,  0.17601773,  0.13888377],\n",
       "       [ 1.0008109 ,  0.15934054,  0.07250963],\n",
       "       [ 0.87852969, -0.25299137, -0.07699588],\n",
       "       [-1.13697989, -0.29958862, -0.2851556 ],\n",
       "       [-0.36237145,  0.50948368,  0.10889779],\n",
       "       [-0.7732104 ,  0.3332867 ,  0.05678017],\n",
       "       [ 0.77535051, -0.28414251,  0.01996138],\n",
       "       [-0.95258223, -0.54563776, -0.17623123],\n",
       "       [-1.14143853, -0.19599228, -0.17164135],\n",
       "       [ 1.10180912,  0.27754754,  0.33879858],\n",
       "       [ 1.12822483,  0.30165509,  0.17685333],\n",
       "       [ 1.16129536,  0.28698597,  0.47424224],\n",
       "       [ 0.97281446,  0.60223335,  0.34051818],\n",
       "       [ 0.05953046,  0.59871039,  0.09985041],\n",
       "       [ 0.47966775,  0.76970355,  0.17178859],\n",
       "       [ 0.9661238 ,  0.46601271,  0.28466344],\n",
       "       [-0.34153172,  0.51072655,  0.09671852],\n",
       "       [ 1.13380853,  0.21921337,  0.25054491],\n",
       "       [ 1.020407  ,  0.4885153 ,  0.29591905],\n",
       "       [ 0.85841436,  0.63059006,  0.26773556],\n",
       "       [ 0.43824402,  0.70283331,  0.16999502],\n",
       "       [-1.05976188, -0.0660738 , -0.27728305],\n",
       "       [ 1.13581555,  0.22121998,  0.13529605],\n",
       "       [ 0.20093918,  0.66039263,  0.30385159],\n",
       "       [-0.28623722,  0.4727371 ,  0.13460678],\n",
       "       [ 0.90027098, -0.17051433, -0.08570108],\n",
       "       [-0.49173768,  0.44562969,  0.10183323],\n",
       "       [ 1.14483602,  0.28675094,  0.23904062],\n",
       "       [ 0.88957526, -0.17373573, -0.05154894],\n",
       "       [-1.05882181, -0.53261965, -0.25029556],\n",
       "       [-1.00446822, -0.5114785 , -0.2480695 ],\n",
       "       [-1.16886922, -0.17851496, -0.28473844],\n",
       "       [ 0.98490146,  0.57478291,  0.30670375],\n",
       "       [ 0.99720618,  0.03755275,  0.1670649 ],\n",
       "       [-0.63771362,  0.20328049,  0.10551791],\n",
       "       [ 0.47071022,  0.70922771,  0.36521954],\n",
       "       [ 0.99426781,  0.0655089 , -0.01868749],\n",
       "       [ 0.19810244,  0.71508125,  0.14055212],\n",
       "       [ 0.82343124, -0.29393378,  0.04566652],\n",
       "       [-1.08356691, -0.48601033, -0.2027812 ],\n",
       "       [ 1.0551596 ,  0.48738838,  0.30323724],\n",
       "       [-0.5941532 ,  0.36237974,  0.43457175],\n",
       "       [ 0.98319006,  0.58951053,  0.33226122],\n",
       "       [ 0.14188144,  0.66739636,  0.32796361],\n",
       "       [-0.08189834,  0.57844634,  0.26074425],\n",
       "       [ 1.09686691,  0.2654652 ,  0.25446538],\n",
       "       [-1.01951937, -0.54541863, -0.29710445],\n",
       "       [-1.078681  , -0.04351171, -0.04502469],\n",
       "       [-1.04575029, -0.40183135, -0.30240695],\n",
       "       [-1.09803432, -0.35709955, -0.24061516],\n",
       "       [-0.31204162,  0.45416936,  0.05651029],\n",
       "       [-1.09798616, -0.41953513, -0.22747174],\n",
       "       [ 0.88434302, -0.10675966,  0.28787226],\n",
       "       [ 1.09610293,  0.32705216,  0.02099942],\n",
       "       [ 0.80052164, -0.14013724,  0.10663701],\n",
       "       [ 0.9015005 ,  0.56018338,  0.09693348]])"
      ]
     },
     "metadata": {},
     "execution_count": 2
    }
   ],
   "source": [
    "np.random.seed(42)\n",
    "m = 60\n",
    "w1, w2 = 0.1, 0.3\n",
    "noise = 0.1\n",
    "\n",
    "angles = np.random.rand(m) * 3 * np.pi / 2 - 0.5\n",
    "X = np.empty((m, 3))\n",
    "X[:, 0] = np.cos(angles) + np.sin(angles)/2 + noise * np.random.randn(m) / 2\n",
    "X[:, 1] = np.sin(angles) * 0.7 + noise * np.random.randn(m) / 2\n",
    "X[:, 2] = X[:, 0] * w1 + X[:, 1] * w2 + noise * np.random.randn(m)\n",
    "\n",
    "X\n"
   ]
  },
  {
   "cell_type": "code",
   "execution_count": 3,
   "metadata": {},
   "outputs": [],
   "source": [
    "# 使用Numpy的svd()函数来获取训练集的所有主成分\n",
    "X_centered = X - X.mean(axis=0)\n",
    "U, s, Vt = np.linalg.svd(X_centered)\n",
    "c1 = Vt.T[:, 0]\n",
    "c2 = Vt.T[:, 1]"
   ]
  },
  {
   "cell_type": "code",
   "execution_count": 4,
   "metadata": {},
   "outputs": [
    {
     "output_type": "execute_result",
     "data": {
      "text/plain": [
       "(60, 3)"
      ]
     },
     "metadata": {},
     "execution_count": 4
    }
   ],
   "source": [
    "m, n = X.shape\n",
    "m, n"
   ]
  },
  {
   "cell_type": "code",
   "execution_count": 5,
   "metadata": {},
   "outputs": [],
   "source": [
    "S = np.zeros(X_centered.shape)\n",
    "S[:n, :n] = np.diag(s)"
   ]
  },
  {
   "cell_type": "code",
   "execution_count": 6,
   "metadata": {},
   "outputs": [
    {
     "output_type": "execute_result",
     "data": {
      "text/plain": [
       "True"
      ]
     },
     "metadata": {},
     "execution_count": 6
    }
   ],
   "source": [
    "np.allclose(X_centered, U.dot(S).dot(Vt))"
   ]
  },
  {
   "cell_type": "code",
   "execution_count": 7,
   "metadata": {},
   "outputs": [],
   "source": [
    "W2 = Vt.T[:, :2]\n",
    "X2D = X_centered.dot(W2)"
   ]
  },
  {
   "cell_type": "code",
   "execution_count": 8,
   "metadata": {},
   "outputs": [],
   "source": [
    "X2D_using_svd = X2D"
   ]
  },
  {
   "source": [
    "PCA假定数据集以原点为中心。正如我们将看到的，Scikit-Learn的PCA类负责为你居中数据。如果你自己实现PCA（如上例所示），或者使用其他库，请不要忘记首先将数据居中。"
   ],
   "cell_type": "markdown",
   "metadata": {}
  },
  {
   "source": [
    "## 8.3.3 向下投影到d维度\n",
    "\n",
    "一旦确定了所有主要成分，你就可以将数据集投影到前d个主要成分定义的超平面上，从而将数据集的维度降低到d维。选择这个超平面可确保投影将保留尽可能多的差异性。\n",
    "\n",
    "要将训练集投影到超平面上并得到维度为d的简化数据集$X_{d-proj}$，计算训练集矩阵X与矩阵$W_d$的矩阵相乘，矩阵$W_d$定义为包含V的前$d$列的矩阵。如公式8-2所示:\n",
    "\n",
    "$$\n",
    "    X_{d-proj} = X W_d \\tag{8-2}\n",
    "$$\n"
   ],
   "cell_type": "markdown",
   "metadata": {}
  },
  {
   "source": [
    "## 8.3.4 Scikit-Learn PCA"
   ],
   "cell_type": "markdown",
   "metadata": {}
  },
  {
   "cell_type": "code",
   "execution_count": 9,
   "metadata": {},
   "outputs": [
    {
     "output_type": "execute_result",
     "data": {
      "text/plain": [
       "array([[-0.690074  , -0.36150744],\n",
       "       [ 1.39636097,  0.34497714],\n",
       "       [ 1.00728461, -0.35025708],\n",
       "       [ 0.2736333 , -0.50516373],\n",
       "       [-0.91324535,  0.26290852]])"
      ]
     },
     "metadata": {},
     "execution_count": 9
    }
   ],
   "source": [
    "from sklearn.decomposition import PCA\n",
    "\n",
    "pca = PCA(n_components=2)\n",
    "X2D = pca.fit_transform(X)\n",
    "X2D[:5]"
   ]
  },
  {
   "cell_type": "code",
   "execution_count": 10,
   "metadata": {},
   "outputs": [
    {
     "output_type": "execute_result",
     "data": {
      "text/plain": [
       "array([[-0.690074  , -0.36150744],\n",
       "       [ 1.39636097,  0.34497714],\n",
       "       [ 1.00728461, -0.35025708],\n",
       "       [ 0.2736333 , -0.50516373],\n",
       "       [-0.91324535,  0.26290852]])"
      ]
     },
     "metadata": {},
     "execution_count": 10
    }
   ],
   "source": [
    "X2D_using_svd[:5]"
   ]
  },
  {
   "source": [
    "注意在数据集上执行PCA多次可能结果会有轻微的不同，这是由于一些投影轴的方向有可能翻转了。"
   ],
   "cell_type": "markdown",
   "metadata": {}
  },
  {
   "source": [
    "\n"
   ],
   "cell_type": "markdown",
   "metadata": {}
  },
  {
   "source": [
    "## 8.3.5 可解释方差比\n",
    "\n",
    "另一个有用的信息是每个主成分的可解释方差比，可以通过explained_variance_ratio_变量来获得。该比率表示沿每个成分的数据集方差的比率。\n"
   ],
   "cell_type": "markdown",
   "metadata": {}
  },
  {
   "cell_type": "code",
   "execution_count": 11,
   "metadata": {},
   "outputs": [
    {
     "output_type": "execute_result",
     "data": {
      "text/plain": [
       "array([0.85406025, 0.13622918])"
      ]
     },
     "metadata": {},
     "execution_count": 11
    }
   ],
   "source": [
    "pca.explained_variance_ratio_"
   ]
  },
  {
   "source": [
    "此输出告诉你，数据集方差的84.2%位于第一个PC上，而14.6%位于第二个PC上。对于第三个PC，这还不到1.2%，因此可以合理地假设第三个PC携带的信息很少。"
   ],
   "cell_type": "markdown",
   "metadata": {}
  },
  {
   "source": [
    "## 8.3.6 选择正确的维度\n",
    "\n",
    "与其任意选择要减小到的维度，不如选择相加足够大的方差部分（例如95%）的维度。当然，如果你是为了数据可视化而降低维度，这种情况下，需要将维度降低到2或3。\n",
    "\n",
    "以下代码在不降低维度的情况下执行PCA，然后计算保留95%训练集方差所需的最小维度：\n"
   ],
   "cell_type": "markdown",
   "metadata": {}
  },
  {
   "cell_type": "code",
   "execution_count": 12,
   "metadata": {},
   "outputs": [
    {
     "output_type": "execute_result",
     "data": {
      "text/plain": [
       "array([0.85406025, 0.99028943, 1.        ])"
      ]
     },
     "metadata": {},
     "execution_count": 12
    }
   ],
   "source": [
    "# 以下代码在不降低维度的情况下执行PCA，然后计算保留95%训练集所需的最小维度\n",
    "X_train = np.copy(X)\n",
    "pca = PCA()\n",
    "pca.fit(X_train)\n",
    "cumsum = np.cumsum(pca.explained_variance_ratio_)\n",
    "cumsum\n"
   ]
  },
  {
   "cell_type": "code",
   "execution_count": 13,
   "metadata": {},
   "outputs": [
    {
     "output_type": "execute_result",
     "data": {
      "text/plain": [
       "2"
      ]
     },
     "metadata": {},
     "execution_count": 13
    }
   ],
   "source": [
    "d = np.argmax(cumsum >= 0.95) + 1\n",
    "d"
   ]
  },
  {
   "source": [
    "然后，你可以设置`n_components=d`并再次运行PCA。但是还有一个更好的选择：将`n_components`设置为0.0到1.0之间的浮点数来表示要保留的方差率，而不是指定要保留的主成分数："
   ],
   "cell_type": "markdown",
   "metadata": {}
  },
  {
   "cell_type": "code",
   "execution_count": 14,
   "metadata": {},
   "outputs": [
    {
     "output_type": "execute_result",
     "data": {
      "text/plain": [
       "array([[-0.690074  , -0.36150744],\n",
       "       [ 1.39636097,  0.34497714],\n",
       "       [ 1.00728461, -0.35025708],\n",
       "       [ 0.2736333 , -0.50516373],\n",
       "       [-0.91324535,  0.26290852],\n",
       "       [-0.79710027,  0.26718188],\n",
       "       [-0.55173939,  0.65062721],\n",
       "       [ 1.41612959,  0.16567641],\n",
       "       [ 0.40776059, -0.46053322],\n",
       "       [ 0.85209856, -0.40516935],\n",
       "       [-0.46269946,  0.61952736],\n",
       "       [ 1.2826692 ,  0.41018903],\n",
       "       [ 1.37468032,  0.03618608],\n",
       "       [-0.96941594,  0.10932241],\n",
       "       [-0.97219266,  0.14390464],\n",
       "       [-1.05216924,  0.07740862],\n",
       "       [-0.92770444, -0.22364286],\n",
       "       [-0.01473543, -0.4153169 ],\n",
       "       [-0.47010859, -0.46920058],\n",
       "       [-0.87761843, -0.08515546],\n",
       "       [ 0.38973612, -0.45189716],\n",
       "       [-0.96989867,  0.19819051],\n",
       "       [-0.93689997, -0.09307933],\n",
       "       [-0.81304146, -0.26096051],\n",
       "       [-0.41368569, -0.42009096],\n",
       "       [ 1.2830484 , -0.02603822],\n",
       "       [-0.95210787,  0.23163682],\n",
       "       [-0.2005476 , -0.49130242],\n",
       "       [ 0.33988682, -0.41263482],\n",
       "       [-0.59146086,  0.58475112],\n",
       "       [ 0.54812172, -0.43831338],\n",
       "       [-0.99520427,  0.14358061],\n",
       "       [-0.58645755,  0.57426772],\n",
       "       [ 1.39360363,  0.3895672 ],\n",
       "       [ 1.33617687,  0.38561674],\n",
       "       [ 1.41628081,  0.04632763],\n",
       "       [-0.9264541 , -0.18501519],\n",
       "       [-0.77991339,  0.34821204],\n",
       "       [ 0.74686904, -0.26218164],\n",
       "       [-0.48042341, -0.47513888],\n",
       "       [-0.75151549,  0.37787401],\n",
       "       [-0.18283935, -0.49263035],\n",
       "       [-0.51056407,  0.63475101],\n",
       "       [ 1.39723764,  0.32572316],\n",
       "       [-0.97100408, -0.08408757],\n",
       "       [ 0.60807764, -0.49285352],\n",
       "       [-0.93297154, -0.20657396],\n",
       "       [-0.15026573, -0.52219942],\n",
       "       [ 0.09681863, -0.4867323 ],\n",
       "       [-0.94691677,  0.14421944],\n",
       "       [ 1.36756046,  0.42677217],\n",
       "       [ 1.25473742, -0.12194352],\n",
       "       [ 1.3577182 ,  0.29036654],\n",
       "       [ 1.38554792,  0.21587043],\n",
       "       [ 0.38277905, -0.37983393],\n",
       "       [ 1.39874611,  0.2685979 ],\n",
       "       [-0.65765024,  0.40980972],\n",
       "       [-0.92060108,  0.1583512 ],\n",
       "       [-0.53772935,  0.47010862],\n",
       "       [-0.8066079 , -0.13305015]])"
      ]
     },
     "metadata": {},
     "execution_count": 14
    }
   ],
   "source": [
    "pca = PCA(n_components=0.95)\n",
    "X_reduced = pca.fit_transform(X_train)\n",
    "X_reduced"
   ]
  },
  {
   "source": [
    "另一个选择是将可解释方差绘制成维度的函数（简单地用cumsum绘制）。曲线上通常会出现一个拐点，其中可解释方差会停止快速增大。在这种情况下，你可以看到将维度降低到大约100而不会损失太多的可解释方差。\n",
    "\n",
    "![fig 8-8](./files/fig_8-8.png)"
   ],
   "cell_type": "markdown",
   "metadata": {}
  },
  {
   "source": [
    "## 8.3.7 PCA压缩\n",
    "降维后，训练集占用的空间要少得多。例如，将PCA应用于MNIST数据集，同时保留其95%的方差。你会发现每个实例将具有150多个特征，而不是原始的784个特征。因此，尽管保留了大多数方差，但数据集现在不到其原始大小的20%！这是一个合理的压缩率，你可以看到这种维度减小极大地加速了分类算法（例如SVM分类器）。通过应用PCA投影的逆变换，还可以将缩减后的数据集解压缩回784维。由于投影会丢失一些信息（在5%的方差被丢弃），因此这不会给你原始的数据，但可能会接近原始数据。\n",
    "\n",
    "**原始数据与重构数据（压缩后再解压缩）之间的均方距离称为重构误差**。\n"
   ],
   "cell_type": "markdown",
   "metadata": {}
  },
  {
   "cell_type": "code",
   "execution_count": 15,
   "metadata": {},
   "outputs": [],
   "source": [
    "from sklearn.datasets import fetch_openml\n",
    "X, y = fetch_openml('mnist_784', version=1, return_X_y=True, as_frame=False)"
   ]
  },
  {
   "cell_type": "code",
   "execution_count": 16,
   "metadata": {},
   "outputs": [
    {
     "output_type": "execute_result",
     "data": {
      "text/plain": [
       "(70000, 784)"
      ]
     },
     "metadata": {},
     "execution_count": 16
    }
   ],
   "source": [
    "X.shape"
   ]
  },
  {
   "cell_type": "code",
   "execution_count": 17,
   "metadata": {},
   "outputs": [
    {
     "output_type": "execute_result",
     "data": {
      "text/plain": [
       "((70000, 154), (70000, 784))"
      ]
     },
     "metadata": {},
     "execution_count": 17
    }
   ],
   "source": [
    "pca = PCA(n_components=154)\n",
    "X_reduced = pca.fit_transform(X)\n",
    "X_recovered = pca.inverse_transform(X_reduced)\n",
    "\n",
    "X_reduced.shape, X_recovered.shape"
   ]
  },
  {
   "cell_type": "code",
   "execution_count": 22,
   "metadata": {},
   "outputs": [
    {
     "output_type": "execute_result",
     "data": {
      "text/plain": [
       "<matplotlib.image.AxesImage at 0x7fcfb2f0e110>"
      ]
     },
     "metadata": {},
     "execution_count": 22
    },
    {
     "output_type": "display_data",
     "data": {
      "text/plain": "<Figure size 1008x432 with 2 Axes>",
      "image/svg+xml": "<?xml version=\"1.0\" encoding=\"utf-8\" standalone=\"no\"?>\n<!DOCTYPE svg PUBLIC \"-//W3C//DTD SVG 1.1//EN\"\n  \"http://www.w3.org/Graphics/SVG/1.1/DTD/svg11.dtd\">\n<!-- Created with matplotlib (https://matplotlib.org/) -->\n<svg height=\"357.238125pt\" version=\"1.1\" viewBox=\"0 0 786.394091 357.238125\" width=\"786.394091pt\" xmlns=\"http://www.w3.org/2000/svg\" xmlns:xlink=\"http://www.w3.org/1999/xlink\">\n <metadata>\n  <rdf:RDF xmlns:cc=\"http://creativecommons.org/ns#\" xmlns:dc=\"http://purl.org/dc/elements/1.1/\" xmlns:rdf=\"http://www.w3.org/1999/02/22-rdf-syntax-ns#\">\n   <cc:Work>\n    <dc:type rdf:resource=\"http://purl.org/dc/dcmitype/StillImage\"/>\n    <dc:date>2021-02-23T20:07:55.733484</dc:date>\n    <dc:format>image/svg+xml</dc:format>\n    <dc:creator>\n     <cc:Agent>\n      <dc:title>Matplotlib v3.3.2, https://matplotlib.org/</dc:title>\n     </cc:Agent>\n    </dc:creator>\n   </cc:Work>\n  </rdf:RDF>\n </metadata>\n <defs>\n  <style type=\"text/css\">*{stroke-linecap:butt;stroke-linejoin:round;}</style>\n </defs>\n <g id=\"figure_1\">\n  <g id=\"patch_1\">\n   <path d=\"M 0 357.238125 \nL 786.394091 357.238125 \nL 786.394091 0 \nL 0 0 \nz\n\" style=\"fill:#ffffff;\"/>\n  </g>\n  <g id=\"axes_1\">\n   <g id=\"patch_2\">\n    <path d=\"M 26.925 333.36 \nL 353.085 333.36 \nL 353.085 7.2 \nL 26.925 7.2 \nz\n\" style=\"fill:#e5e5e5;\"/>\n   </g>\n   <g clip-path=\"url(#p53377d61bc)\">\n    <image height=\"327\" id=\"imaged49ac02064\" transform=\"scale(1 -1)translate(0 -327)\" width=\"327\" x=\"26.925\" xlink:href=\"data:image/png;base64,\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\" y=\"-6.36\"/>\n   </g>\n   <g id=\"matplotlib.axis_1\">\n    <g id=\"xtick_1\">\n     <g id=\"line2d_1\">\n      <path clip-path=\"url(#p53377d61bc)\" d=\"M 32.749286 333.36 \nL 32.749286 7.2 \n\" style=\"fill:none;stroke:#ffffff;stroke-linecap:square;stroke-width:0.8;\"/>\n     </g>\n     <g id=\"line2d_2\">\n      <defs>\n       <path d=\"M 0 0 \nL 0 3.5 \n\" id=\"m71d8105f0e\" style=\"stroke:#555555;stroke-width:0.8;\"/>\n      </defs>\n      <g>\n       <use style=\"fill:#555555;stroke:#555555;stroke-width:0.8;\" x=\"32.749286\" xlink:href=\"#m71d8105f0e\" y=\"333.36\"/>\n      </g>\n     </g>\n     <g id=\"text_1\">\n      <!-- 0 -->\n      <g style=\"fill:#555555;\" transform=\"translate(29.568036 347.958438)scale(0.1 -0.1)\">\n       <defs>\n        <path d=\"M 31.78125 66.40625 \nQ 24.171875 66.40625 20.328125 58.90625 \nQ 16.5 51.421875 16.5 36.375 \nQ 16.5 21.390625 20.328125 13.890625 \nQ 24.171875 6.390625 31.78125 6.390625 \nQ 39.453125 6.390625 43.28125 13.890625 \nQ 47.125 21.390625 47.125 36.375 \nQ 47.125 51.421875 43.28125 58.90625 \nQ 39.453125 66.40625 31.78125 66.40625 \nz\nM 31.78125 74.21875 \nQ 44.046875 74.21875 50.515625 64.515625 \nQ 56.984375 54.828125 56.984375 36.375 \nQ 56.984375 17.96875 50.515625 8.265625 \nQ 44.046875 -1.421875 31.78125 -1.421875 \nQ 19.53125 -1.421875 13.0625 8.265625 \nQ 6.59375 17.96875 6.59375 36.375 \nQ 6.59375 54.828125 13.0625 64.515625 \nQ 19.53125 74.21875 31.78125 74.21875 \nz\n\" id=\"DejaVuSans-48\"/>\n       </defs>\n       <use xlink:href=\"#DejaVuSans-48\"/>\n      </g>\n     </g>\n    </g>\n    <g id=\"xtick_2\">\n     <g id=\"line2d_3\">\n      <path clip-path=\"url(#p53377d61bc)\" d=\"M 90.992143 333.36 \nL 90.992143 7.2 \n\" style=\"fill:none;stroke:#ffffff;stroke-linecap:square;stroke-width:0.8;\"/>\n     </g>\n     <g id=\"line2d_4\">\n      <g>\n       <use style=\"fill:#555555;stroke:#555555;stroke-width:0.8;\" x=\"90.992143\" xlink:href=\"#m71d8105f0e\" y=\"333.36\"/>\n      </g>\n     </g>\n     <g id=\"text_2\">\n      <!-- 5 -->\n      <g style=\"fill:#555555;\" transform=\"translate(87.810893 347.958438)scale(0.1 -0.1)\">\n       <defs>\n        <path d=\"M 10.796875 72.90625 \nL 49.515625 72.90625 \nL 49.515625 64.59375 \nL 19.828125 64.59375 \nL 19.828125 46.734375 \nQ 21.96875 47.46875 24.109375 47.828125 \nQ 26.265625 48.1875 28.421875 48.1875 \nQ 40.625 48.1875 47.75 41.5 \nQ 54.890625 34.8125 54.890625 23.390625 \nQ 54.890625 11.625 47.5625 5.09375 \nQ 40.234375 -1.421875 26.90625 -1.421875 \nQ 22.3125 -1.421875 17.546875 -0.640625 \nQ 12.796875 0.140625 7.71875 1.703125 \nL 7.71875 11.625 \nQ 12.109375 9.234375 16.796875 8.0625 \nQ 21.484375 6.890625 26.703125 6.890625 \nQ 35.15625 6.890625 40.078125 11.328125 \nQ 45.015625 15.765625 45.015625 23.390625 \nQ 45.015625 31 40.078125 35.4375 \nQ 35.15625 39.890625 26.703125 39.890625 \nQ 22.75 39.890625 18.8125 39.015625 \nQ 14.890625 38.140625 10.796875 36.28125 \nz\n\" id=\"DejaVuSans-53\"/>\n       </defs>\n       <use xlink:href=\"#DejaVuSans-53\"/>\n      </g>\n     </g>\n    </g>\n    <g id=\"xtick_3\">\n     <g id=\"line2d_5\">\n      <path clip-path=\"url(#p53377d61bc)\" d=\"M 149.235 333.36 \nL 149.235 7.2 \n\" style=\"fill:none;stroke:#ffffff;stroke-linecap:square;stroke-width:0.8;\"/>\n     </g>\n     <g id=\"line2d_6\">\n      <g>\n       <use style=\"fill:#555555;stroke:#555555;stroke-width:0.8;\" x=\"149.235\" xlink:href=\"#m71d8105f0e\" y=\"333.36\"/>\n      </g>\n     </g>\n     <g id=\"text_3\">\n      <!-- 10 -->\n      <g style=\"fill:#555555;\" transform=\"translate(142.8725 347.958438)scale(0.1 -0.1)\">\n       <defs>\n        <path d=\"M 12.40625 8.296875 \nL 28.515625 8.296875 \nL 28.515625 63.921875 \nL 10.984375 60.40625 \nL 10.984375 69.390625 \nL 28.421875 72.90625 \nL 38.28125 72.90625 \nL 38.28125 8.296875 \nL 54.390625 8.296875 \nL 54.390625 0 \nL 12.40625 0 \nz\n\" id=\"DejaVuSans-49\"/>\n       </defs>\n       <use xlink:href=\"#DejaVuSans-49\"/>\n       <use x=\"63.623047\" xlink:href=\"#DejaVuSans-48\"/>\n      </g>\n     </g>\n    </g>\n    <g id=\"xtick_4\">\n     <g id=\"line2d_7\">\n      <path clip-path=\"url(#p53377d61bc)\" d=\"M 207.477857 333.36 \nL 207.477857 7.2 \n\" style=\"fill:none;stroke:#ffffff;stroke-linecap:square;stroke-width:0.8;\"/>\n     </g>\n     <g id=\"line2d_8\">\n      <g>\n       <use style=\"fill:#555555;stroke:#555555;stroke-width:0.8;\" x=\"207.477857\" xlink:href=\"#m71d8105f0e\" y=\"333.36\"/>\n      </g>\n     </g>\n     <g id=\"text_4\">\n      <!-- 15 -->\n      <g style=\"fill:#555555;\" transform=\"translate(201.115357 347.958438)scale(0.1 -0.1)\">\n       <use xlink:href=\"#DejaVuSans-49\"/>\n       <use x=\"63.623047\" xlink:href=\"#DejaVuSans-53\"/>\n      </g>\n     </g>\n    </g>\n    <g id=\"xtick_5\">\n     <g id=\"line2d_9\">\n      <path clip-path=\"url(#p53377d61bc)\" d=\"M 265.720714 333.36 \nL 265.720714 7.2 \n\" style=\"fill:none;stroke:#ffffff;stroke-linecap:square;stroke-width:0.8;\"/>\n     </g>\n     <g id=\"line2d_10\">\n      <g>\n       <use style=\"fill:#555555;stroke:#555555;stroke-width:0.8;\" x=\"265.720714\" xlink:href=\"#m71d8105f0e\" y=\"333.36\"/>\n      </g>\n     </g>\n     <g id=\"text_5\">\n      <!-- 20 -->\n      <g style=\"fill:#555555;\" transform=\"translate(259.358214 347.958438)scale(0.1 -0.1)\">\n       <defs>\n        <path d=\"M 19.1875 8.296875 \nL 53.609375 8.296875 \nL 53.609375 0 \nL 7.328125 0 \nL 7.328125 8.296875 \nQ 12.9375 14.109375 22.625 23.890625 \nQ 32.328125 33.6875 34.8125 36.53125 \nQ 39.546875 41.84375 41.421875 45.53125 \nQ 43.3125 49.21875 43.3125 52.78125 \nQ 43.3125 58.59375 39.234375 62.25 \nQ 35.15625 65.921875 28.609375 65.921875 \nQ 23.96875 65.921875 18.8125 64.3125 \nQ 13.671875 62.703125 7.8125 59.421875 \nL 7.8125 69.390625 \nQ 13.765625 71.78125 18.9375 73 \nQ 24.125 74.21875 28.421875 74.21875 \nQ 39.75 74.21875 46.484375 68.546875 \nQ 53.21875 62.890625 53.21875 53.421875 \nQ 53.21875 48.921875 51.53125 44.890625 \nQ 49.859375 40.875 45.40625 35.40625 \nQ 44.1875 33.984375 37.640625 27.21875 \nQ 31.109375 20.453125 19.1875 8.296875 \nz\n\" id=\"DejaVuSans-50\"/>\n       </defs>\n       <use xlink:href=\"#DejaVuSans-50\"/>\n       <use x=\"63.623047\" xlink:href=\"#DejaVuSans-48\"/>\n      </g>\n     </g>\n    </g>\n    <g id=\"xtick_6\">\n     <g id=\"line2d_11\">\n      <path clip-path=\"url(#p53377d61bc)\" d=\"M 323.963571 333.36 \nL 323.963571 7.2 \n\" style=\"fill:none;stroke:#ffffff;stroke-linecap:square;stroke-width:0.8;\"/>\n     </g>\n     <g id=\"line2d_12\">\n      <g>\n       <use style=\"fill:#555555;stroke:#555555;stroke-width:0.8;\" x=\"323.963571\" xlink:href=\"#m71d8105f0e\" y=\"333.36\"/>\n      </g>\n     </g>\n     <g id=\"text_6\">\n      <!-- 25 -->\n      <g style=\"fill:#555555;\" transform=\"translate(317.601071 347.958438)scale(0.1 -0.1)\">\n       <use xlink:href=\"#DejaVuSans-50\"/>\n       <use x=\"63.623047\" xlink:href=\"#DejaVuSans-53\"/>\n      </g>\n     </g>\n    </g>\n   </g>\n   <g id=\"matplotlib.axis_2\">\n    <g id=\"ytick_1\">\n     <g id=\"line2d_13\">\n      <path clip-path=\"url(#p53377d61bc)\" d=\"M 26.925 13.024286 \nL 353.085 13.024286 \n\" style=\"fill:none;stroke:#ffffff;stroke-linecap:square;stroke-width:0.8;\"/>\n     </g>\n     <g id=\"line2d_14\">\n      <defs>\n       <path d=\"M 0 0 \nL -3.5 0 \n\" id=\"m78fd03c945\" style=\"stroke:#555555;stroke-width:0.8;\"/>\n      </defs>\n      <g>\n       <use style=\"fill:#555555;stroke:#555555;stroke-width:0.8;\" x=\"26.925\" xlink:href=\"#m78fd03c945\" y=\"13.024286\"/>\n      </g>\n     </g>\n     <g id=\"text_7\">\n      <!-- 0 -->\n      <g style=\"fill:#555555;\" transform=\"translate(13.5625 16.823504)scale(0.1 -0.1)\">\n       <use xlink:href=\"#DejaVuSans-48\"/>\n      </g>\n     </g>\n    </g>\n    <g id=\"ytick_2\">\n     <g id=\"line2d_15\">\n      <path clip-path=\"url(#p53377d61bc)\" d=\"M 26.925 71.267143 \nL 353.085 71.267143 \n\" style=\"fill:none;stroke:#ffffff;stroke-linecap:square;stroke-width:0.8;\"/>\n     </g>\n     <g id=\"line2d_16\">\n      <g>\n       <use style=\"fill:#555555;stroke:#555555;stroke-width:0.8;\" x=\"26.925\" xlink:href=\"#m78fd03c945\" y=\"71.267143\"/>\n      </g>\n     </g>\n     <g id=\"text_8\">\n      <!-- 5 -->\n      <g style=\"fill:#555555;\" transform=\"translate(13.5625 75.066362)scale(0.1 -0.1)\">\n       <use xlink:href=\"#DejaVuSans-53\"/>\n      </g>\n     </g>\n    </g>\n    <g id=\"ytick_3\">\n     <g id=\"line2d_17\">\n      <path clip-path=\"url(#p53377d61bc)\" d=\"M 26.925 129.51 \nL 353.085 129.51 \n\" style=\"fill:none;stroke:#ffffff;stroke-linecap:square;stroke-width:0.8;\"/>\n     </g>\n     <g id=\"line2d_18\">\n      <g>\n       <use style=\"fill:#555555;stroke:#555555;stroke-width:0.8;\" x=\"26.925\" xlink:href=\"#m78fd03c945\" y=\"129.51\"/>\n      </g>\n     </g>\n     <g id=\"text_9\">\n      <!-- 10 -->\n      <g style=\"fill:#555555;\" transform=\"translate(7.2 133.309219)scale(0.1 -0.1)\">\n       <use xlink:href=\"#DejaVuSans-49\"/>\n       <use x=\"63.623047\" xlink:href=\"#DejaVuSans-48\"/>\n      </g>\n     </g>\n    </g>\n    <g id=\"ytick_4\">\n     <g id=\"line2d_19\">\n      <path clip-path=\"url(#p53377d61bc)\" d=\"M 26.925 187.752857 \nL 353.085 187.752857 \n\" style=\"fill:none;stroke:#ffffff;stroke-linecap:square;stroke-width:0.8;\"/>\n     </g>\n     <g id=\"line2d_20\">\n      <g>\n       <use style=\"fill:#555555;stroke:#555555;stroke-width:0.8;\" x=\"26.925\" xlink:href=\"#m78fd03c945\" y=\"187.752857\"/>\n      </g>\n     </g>\n     <g id=\"text_10\">\n      <!-- 15 -->\n      <g style=\"fill:#555555;\" transform=\"translate(7.2 191.552076)scale(0.1 -0.1)\">\n       <use xlink:href=\"#DejaVuSans-49\"/>\n       <use x=\"63.623047\" xlink:href=\"#DejaVuSans-53\"/>\n      </g>\n     </g>\n    </g>\n    <g id=\"ytick_5\">\n     <g id=\"line2d_21\">\n      <path clip-path=\"url(#p53377d61bc)\" d=\"M 26.925 245.995714 \nL 353.085 245.995714 \n\" style=\"fill:none;stroke:#ffffff;stroke-linecap:square;stroke-width:0.8;\"/>\n     </g>\n     <g id=\"line2d_22\">\n      <g>\n       <use style=\"fill:#555555;stroke:#555555;stroke-width:0.8;\" x=\"26.925\" xlink:href=\"#m78fd03c945\" y=\"245.995714\"/>\n      </g>\n     </g>\n     <g id=\"text_11\">\n      <!-- 20 -->\n      <g style=\"fill:#555555;\" transform=\"translate(7.2 249.794933)scale(0.1 -0.1)\">\n       <use xlink:href=\"#DejaVuSans-50\"/>\n       <use x=\"63.623047\" xlink:href=\"#DejaVuSans-48\"/>\n      </g>\n     </g>\n    </g>\n    <g id=\"ytick_6\">\n     <g id=\"line2d_23\">\n      <path clip-path=\"url(#p53377d61bc)\" d=\"M 26.925 304.238571 \nL 353.085 304.238571 \n\" style=\"fill:none;stroke:#ffffff;stroke-linecap:square;stroke-width:0.8;\"/>\n     </g>\n     <g id=\"line2d_24\">\n      <g>\n       <use style=\"fill:#555555;stroke:#555555;stroke-width:0.8;\" x=\"26.925\" xlink:href=\"#m78fd03c945\" y=\"304.238571\"/>\n      </g>\n     </g>\n     <g id=\"text_12\">\n      <!-- 25 -->\n      <g style=\"fill:#555555;\" transform=\"translate(7.2 308.03779)scale(0.1 -0.1)\">\n       <use xlink:href=\"#DejaVuSans-50\"/>\n       <use x=\"63.623047\" xlink:href=\"#DejaVuSans-53\"/>\n      </g>\n     </g>\n    </g>\n   </g>\n   <g id=\"patch_3\">\n    <path d=\"M 26.925 333.36 \nL 26.925 7.2 \n\" style=\"fill:none;stroke:#ffffff;stroke-linecap:square;stroke-linejoin:miter;\"/>\n   </g>\n   <g id=\"patch_4\">\n    <path d=\"M 353.085 333.36 \nL 353.085 7.2 \n\" style=\"fill:none;stroke:#ffffff;stroke-linecap:square;stroke-linejoin:miter;\"/>\n   </g>\n   <g id=\"patch_5\">\n    <path d=\"M 26.925 333.36 \nL 353.085 333.36 \n\" style=\"fill:none;stroke:#ffffff;stroke-linecap:square;stroke-linejoin:miter;\"/>\n   </g>\n   <g id=\"patch_6\">\n    <path d=\"M 26.925 7.2 \nL 353.085 7.2 \n\" style=\"fill:none;stroke:#ffffff;stroke-linecap:square;stroke-linejoin:miter;\"/>\n   </g>\n  </g>\n  <g id=\"axes_2\">\n   <g id=\"patch_7\">\n    <path d=\"M 453.034091 333.36 \nL 779.194091 333.36 \nL 779.194091 7.2 \nL 453.034091 7.2 \nz\n\" style=\"fill:#e5e5e5;\"/>\n   </g>\n   <g clip-path=\"url(#pa6589d7fbe)\">\n    <image height=\"327\" id=\"image2c45e14279\" transform=\"scale(1 -1)translate(0 -327)\" width=\"327\" x=\"453.034091\" xlink:href=\"data:image/png;base64,\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\" y=\"-6.36\"/>\n   </g>\n   <g id=\"matplotlib.axis_3\">\n    <g id=\"xtick_7\">\n     <g id=\"line2d_25\">\n      <path clip-path=\"url(#pa6589d7fbe)\" d=\"M 458.858377 333.36 \nL 458.858377 7.2 \n\" style=\"fill:none;stroke:#ffffff;stroke-linecap:square;stroke-width:0.8;\"/>\n     </g>\n     <g id=\"line2d_26\">\n      <g>\n       <use style=\"fill:#555555;stroke:#555555;stroke-width:0.8;\" x=\"458.858377\" xlink:href=\"#m71d8105f0e\" y=\"333.36\"/>\n      </g>\n     </g>\n     <g id=\"text_13\">\n      <!-- 0 -->\n      <g style=\"fill:#555555;\" transform=\"translate(455.677127 347.958438)scale(0.1 -0.1)\">\n       <use xlink:href=\"#DejaVuSans-48\"/>\n      </g>\n     </g>\n    </g>\n    <g id=\"xtick_8\">\n     <g id=\"line2d_27\">\n      <path clip-path=\"url(#pa6589d7fbe)\" d=\"M 517.101234 333.36 \nL 517.101234 7.2 \n\" style=\"fill:none;stroke:#ffffff;stroke-linecap:square;stroke-width:0.8;\"/>\n     </g>\n     <g id=\"line2d_28\">\n      <g>\n       <use style=\"fill:#555555;stroke:#555555;stroke-width:0.8;\" x=\"517.101234\" xlink:href=\"#m71d8105f0e\" y=\"333.36\"/>\n      </g>\n     </g>\n     <g id=\"text_14\">\n      <!-- 5 -->\n      <g style=\"fill:#555555;\" transform=\"translate(513.919984 347.958438)scale(0.1 -0.1)\">\n       <use xlink:href=\"#DejaVuSans-53\"/>\n      </g>\n     </g>\n    </g>\n    <g id=\"xtick_9\">\n     <g id=\"line2d_29\">\n      <path clip-path=\"url(#pa6589d7fbe)\" d=\"M 575.344091 333.36 \nL 575.344091 7.2 \n\" style=\"fill:none;stroke:#ffffff;stroke-linecap:square;stroke-width:0.8;\"/>\n     </g>\n     <g id=\"line2d_30\">\n      <g>\n       <use style=\"fill:#555555;stroke:#555555;stroke-width:0.8;\" x=\"575.344091\" xlink:href=\"#m71d8105f0e\" y=\"333.36\"/>\n      </g>\n     </g>\n     <g id=\"text_15\">\n      <!-- 10 -->\n      <g style=\"fill:#555555;\" transform=\"translate(568.981591 347.958438)scale(0.1 -0.1)\">\n       <use xlink:href=\"#DejaVuSans-49\"/>\n       <use x=\"63.623047\" xlink:href=\"#DejaVuSans-48\"/>\n      </g>\n     </g>\n    </g>\n    <g id=\"xtick_10\">\n     <g id=\"line2d_31\">\n      <path clip-path=\"url(#pa6589d7fbe)\" d=\"M 633.586948 333.36 \nL 633.586948 7.2 \n\" style=\"fill:none;stroke:#ffffff;stroke-linecap:square;stroke-width:0.8;\"/>\n     </g>\n     <g id=\"line2d_32\">\n      <g>\n       <use style=\"fill:#555555;stroke:#555555;stroke-width:0.8;\" x=\"633.586948\" xlink:href=\"#m71d8105f0e\" y=\"333.36\"/>\n      </g>\n     </g>\n     <g id=\"text_16\">\n      <!-- 15 -->\n      <g style=\"fill:#555555;\" transform=\"translate(627.224448 347.958438)scale(0.1 -0.1)\">\n       <use xlink:href=\"#DejaVuSans-49\"/>\n       <use x=\"63.623047\" xlink:href=\"#DejaVuSans-53\"/>\n      </g>\n     </g>\n    </g>\n    <g id=\"xtick_11\">\n     <g id=\"line2d_33\">\n      <path clip-path=\"url(#pa6589d7fbe)\" d=\"M 691.829805 333.36 \nL 691.829805 7.2 \n\" style=\"fill:none;stroke:#ffffff;stroke-linecap:square;stroke-width:0.8;\"/>\n     </g>\n     <g id=\"line2d_34\">\n      <g>\n       <use style=\"fill:#555555;stroke:#555555;stroke-width:0.8;\" x=\"691.829805\" xlink:href=\"#m71d8105f0e\" y=\"333.36\"/>\n      </g>\n     </g>\n     <g id=\"text_17\">\n      <!-- 20 -->\n      <g style=\"fill:#555555;\" transform=\"translate(685.467305 347.958438)scale(0.1 -0.1)\">\n       <use xlink:href=\"#DejaVuSans-50\"/>\n       <use x=\"63.623047\" xlink:href=\"#DejaVuSans-48\"/>\n      </g>\n     </g>\n    </g>\n    <g id=\"xtick_12\">\n     <g id=\"line2d_35\">\n      <path clip-path=\"url(#pa6589d7fbe)\" d=\"M 750.072662 333.36 \nL 750.072662 7.2 \n\" style=\"fill:none;stroke:#ffffff;stroke-linecap:square;stroke-width:0.8;\"/>\n     </g>\n     <g id=\"line2d_36\">\n      <g>\n       <use style=\"fill:#555555;stroke:#555555;stroke-width:0.8;\" x=\"750.072662\" xlink:href=\"#m71d8105f0e\" y=\"333.36\"/>\n      </g>\n     </g>\n     <g id=\"text_18\">\n      <!-- 25 -->\n      <g style=\"fill:#555555;\" transform=\"translate(743.710162 347.958438)scale(0.1 -0.1)\">\n       <use xlink:href=\"#DejaVuSans-50\"/>\n       <use x=\"63.623047\" xlink:href=\"#DejaVuSans-53\"/>\n      </g>\n     </g>\n    </g>\n   </g>\n   <g id=\"matplotlib.axis_4\">\n    <g id=\"ytick_7\">\n     <g id=\"line2d_37\">\n      <path clip-path=\"url(#pa6589d7fbe)\" d=\"M 453.034091 13.024286 \nL 779.194091 13.024286 \n\" style=\"fill:none;stroke:#ffffff;stroke-linecap:square;stroke-width:0.8;\"/>\n     </g>\n     <g id=\"line2d_38\">\n      <g>\n       <use style=\"fill:#555555;stroke:#555555;stroke-width:0.8;\" x=\"453.034091\" xlink:href=\"#m78fd03c945\" y=\"13.024286\"/>\n      </g>\n     </g>\n     <g id=\"text_19\">\n      <!-- 0 -->\n      <g style=\"fill:#555555;\" transform=\"translate(439.671591 16.823504)scale(0.1 -0.1)\">\n       <use xlink:href=\"#DejaVuSans-48\"/>\n      </g>\n     </g>\n    </g>\n    <g id=\"ytick_8\">\n     <g id=\"line2d_39\">\n      <path clip-path=\"url(#pa6589d7fbe)\" d=\"M 453.034091 71.267143 \nL 779.194091 71.267143 \n\" style=\"fill:none;stroke:#ffffff;stroke-linecap:square;stroke-width:0.8;\"/>\n     </g>\n     <g id=\"line2d_40\">\n      <g>\n       <use style=\"fill:#555555;stroke:#555555;stroke-width:0.8;\" x=\"453.034091\" xlink:href=\"#m78fd03c945\" y=\"71.267143\"/>\n      </g>\n     </g>\n     <g id=\"text_20\">\n      <!-- 5 -->\n      <g style=\"fill:#555555;\" transform=\"translate(439.671591 75.066362)scale(0.1 -0.1)\">\n       <use xlink:href=\"#DejaVuSans-53\"/>\n      </g>\n     </g>\n    </g>\n    <g id=\"ytick_9\">\n     <g id=\"line2d_41\">\n      <path clip-path=\"url(#pa6589d7fbe)\" d=\"M 453.034091 129.51 \nL 779.194091 129.51 \n\" style=\"fill:none;stroke:#ffffff;stroke-linecap:square;stroke-width:0.8;\"/>\n     </g>\n     <g id=\"line2d_42\">\n      <g>\n       <use style=\"fill:#555555;stroke:#555555;stroke-width:0.8;\" x=\"453.034091\" xlink:href=\"#m78fd03c945\" y=\"129.51\"/>\n      </g>\n     </g>\n     <g id=\"text_21\">\n      <!-- 10 -->\n      <g style=\"fill:#555555;\" transform=\"translate(433.309091 133.309219)scale(0.1 -0.1)\">\n       <use xlink:href=\"#DejaVuSans-49\"/>\n       <use x=\"63.623047\" xlink:href=\"#DejaVuSans-48\"/>\n      </g>\n     </g>\n    </g>\n    <g id=\"ytick_10\">\n     <g id=\"line2d_43\">\n      <path clip-path=\"url(#pa6589d7fbe)\" d=\"M 453.034091 187.752857 \nL 779.194091 187.752857 \n\" style=\"fill:none;stroke:#ffffff;stroke-linecap:square;stroke-width:0.8;\"/>\n     </g>\n     <g id=\"line2d_44\">\n      <g>\n       <use style=\"fill:#555555;stroke:#555555;stroke-width:0.8;\" x=\"453.034091\" xlink:href=\"#m78fd03c945\" y=\"187.752857\"/>\n      </g>\n     </g>\n     <g id=\"text_22\">\n      <!-- 15 -->\n      <g style=\"fill:#555555;\" transform=\"translate(433.309091 191.552076)scale(0.1 -0.1)\">\n       <use xlink:href=\"#DejaVuSans-49\"/>\n       <use x=\"63.623047\" xlink:href=\"#DejaVuSans-53\"/>\n      </g>\n     </g>\n    </g>\n    <g id=\"ytick_11\">\n     <g id=\"line2d_45\">\n      <path clip-path=\"url(#pa6589d7fbe)\" d=\"M 453.034091 245.995714 \nL 779.194091 245.995714 \n\" style=\"fill:none;stroke:#ffffff;stroke-linecap:square;stroke-width:0.8;\"/>\n     </g>\n     <g id=\"line2d_46\">\n      <g>\n       <use style=\"fill:#555555;stroke:#555555;stroke-width:0.8;\" x=\"453.034091\" xlink:href=\"#m78fd03c945\" y=\"245.995714\"/>\n      </g>\n     </g>\n     <g id=\"text_23\">\n      <!-- 20 -->\n      <g style=\"fill:#555555;\" transform=\"translate(433.309091 249.794933)scale(0.1 -0.1)\">\n       <use xlink:href=\"#DejaVuSans-50\"/>\n       <use x=\"63.623047\" xlink:href=\"#DejaVuSans-48\"/>\n      </g>\n     </g>\n    </g>\n    <g id=\"ytick_12\">\n     <g id=\"line2d_47\">\n      <path clip-path=\"url(#pa6589d7fbe)\" d=\"M 453.034091 304.238571 \nL 779.194091 304.238571 \n\" style=\"fill:none;stroke:#ffffff;stroke-linecap:square;stroke-width:0.8;\"/>\n     </g>\n     <g id=\"line2d_48\">\n      <g>\n       <use style=\"fill:#555555;stroke:#555555;stroke-width:0.8;\" x=\"453.034091\" xlink:href=\"#m78fd03c945\" y=\"304.238571\"/>\n      </g>\n     </g>\n     <g id=\"text_24\">\n      <!-- 25 -->\n      <g style=\"fill:#555555;\" transform=\"translate(433.309091 308.03779)scale(0.1 -0.1)\">\n       <use xlink:href=\"#DejaVuSans-50\"/>\n       <use x=\"63.623047\" xlink:href=\"#DejaVuSans-53\"/>\n      </g>\n     </g>\n    </g>\n   </g>\n   <g id=\"patch_8\">\n    <path d=\"M 453.034091 333.36 \nL 453.034091 7.2 \n\" style=\"fill:none;stroke:#ffffff;stroke-linecap:square;stroke-linejoin:miter;\"/>\n   </g>\n   <g id=\"patch_9\">\n    <path d=\"M 779.194091 333.36 \nL 779.194091 7.2 \n\" style=\"fill:none;stroke:#ffffff;stroke-linecap:square;stroke-linejoin:miter;\"/>\n   </g>\n   <g id=\"patch_10\">\n    <path d=\"M 453.034091 333.36 \nL 779.194091 333.36 \n\" style=\"fill:none;stroke:#ffffff;stroke-linecap:square;stroke-linejoin:miter;\"/>\n   </g>\n   <g id=\"patch_11\">\n    <path d=\"M 453.034091 7.2 \nL 779.194091 7.2 \n\" style=\"fill:none;stroke:#ffffff;stroke-linecap:square;stroke-linejoin:miter;\"/>\n   </g>\n  </g>\n </g>\n <defs>\n  <clipPath id=\"p53377d61bc\">\n   <rect height=\"326.16\" width=\"326.16\" x=\"26.925\" y=\"7.2\"/>\n  </clipPath>\n  <clipPath id=\"pa6589d7fbe\">\n   <rect height=\"326.16\" width=\"326.16\" x=\"453.034091\" y=\"7.2\"/>\n  </clipPath>\n </defs>\n</svg>\n",
      "image/png": "[encoded data removed]"
     },
     "metadata": {}
    }
   ],
   "source": [
    "fig, axes = plt.subplots(ncols=2, figsize=(14, 6))\n",
    "plt.sca(axes[0])\n",
    "image = X[:1,]\n",
    "# image = np.reshape(image, (-1, 1))\n",
    "image=np.reshape(image, (28, -1))\n",
    "plt.imshow(image, cmap=\"gray\")\n",
    "\n",
    "plt.sca(axes[1])\n",
    "image = X_recovered[:1,]\n",
    "# image = np.reshape(image, (-1, 1))\n",
    "image=np.reshape(image, (28, -1))\n",
    "plt.imshow(image, cmap=\"gray\")\n"
   ]
  },
  {
   "source": [
    "PCA逆变换，回到原始数量的维度\n",
    "$$\n",
    "X_{recovered} = X_{d-proj}W_d^T \\tag{8-3}\n",
    "$$\n"
   ],
   "cell_type": "markdown",
   "metadata": {}
  },
  {
   "source": [
    "## 8.3.8 随机PCA\n",
    "如果将超参数svd_solver设置为\"randomized\"，则Scikit-Learn将使用一种称为Randomized PCA的随机算法，该算法可以快速找到前d个主成分的近似值。它的计算复杂度为$O（m\\times d^2）+O（d^3）$，而不是完全SVD方法的$O（m \\times n^2）+O（n^3）$，因此，当d远远小于n时，它比完全的SVD快得多：\n",
    "\n",
    "```python\n",
    "rnd_pca = PCA(n_components=154, svd_solver=\"randomized\")\n",
    "X_reduced = rnd_pca.fit_transform(X)\n",
    "```"
   ],
   "cell_type": "markdown",
   "metadata": {}
  },
  {
   "source": [
    "默认情况下，svd_solver实际上设置为\"auto\"：如果m或n大于500并且d小于m或n的80%，则Scikit-Learn自动使用随机PCA算法，否则它将使用完全的SVD方法。如果要强制Scikit-Learn使用完全的SVD，可以将svd_solver超参数设置为\"full\"。"
   ],
   "cell_type": "markdown",
   "metadata": {}
  },
  {
   "source": [
    "## 8.3.9 增量PCA\n",
    "\n",
    "前面的PCA实现的一个问题是，它们要求整个训练集都放入内存才能运行算法。幸运的是已经开发了**增量PCA（IPCA）算法**，它们可以使你把训练集划分为多个小批量，并一次将一个小批量送入IPCA算法。这对于大型训练集和在线（即在新实例到来时动态运行）应用PCA很有用。\n",
    "\n",
    "以下代码将MNIST数据集拆分为100个小批量（使用NumPy的`array_split（）`函数），并将其馈送到Scikit-Learn的`IncrementalPCA`类，来把MNIST数据集的维度降低到154（就像之前做的那样）。请注意，你必须在每个小批量中调用`partial_fit（）`方法，而不是在整个训练集中调用`fit（）`方法：\n"
   ],
   "cell_type": "markdown",
   "metadata": {}
  },
  {
   "cell_type": "code",
   "execution_count": 23,
   "metadata": {},
   "outputs": [],
   "source": [
    "from sklearn.decomposition import IncrementalPCA\n",
    "\n",
    "n_batches = 100\n",
    "\n",
    "inc_pca = IncrementalPCA(n_components=154)\n",
    "\n",
    "for X_batch in np.array_split(X, n_batches):\n",
    "    inc_pca.partial_fit(X_batch)\n",
    "\n",
    "X_reduced = inc_pca.transform(X)"
   ]
  },
  {
   "source": [
    "另外，你可以使用NumPy的`memmap`类，该类使你可以将存储在磁盘上的二进制文件中的大型数组当作完全是在内存中一样来操作，该类仅在需要时才将数据加载到内存中。由于`IncrementalPCA`类在任何给定时间仅使用数组的一小部分，因此内存使用情况处于受控状态。如以下代码所示，这使得调用通常的`fit（）`方法成为可能：\n",
    "\n",
    "\n",
    "```python\n",
    "X_mm = np.memmap(filename, dtype=\"float32\", mode=\"readonly\", shape=(m, n))\n",
    "\n",
    "batch_size = m // n_batches\n",
    "\n",
    "inc_pca = IncrementalPCA(n_components=154, batch_size=batch_size)\n",
    "inc_pca.fit(X_mm)\n",
    "```"
   ],
   "cell_type": "markdown",
   "metadata": {}
  }
 ]
}