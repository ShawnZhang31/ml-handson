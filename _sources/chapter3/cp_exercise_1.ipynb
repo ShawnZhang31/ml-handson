{
 "metadata": {
  "language_info": {
   "codemirror_mode": {
    "name": "ipython",
    "version": 3
   },
   "file_extension": ".py",
   "mimetype": "text/x-python",
   "name": "python",
   "nbconvert_exporter": "python",
   "pygments_lexer": "ipython3",
   "version": "3.7.4-final"
  },
  "orig_nbformat": 2,
  "kernelspec": {
   "name": "Python 3.7.4 64-bit ('venv': virtualenv)",
   "display_name": "Python 3.7.4 64-bit ('venv': virtualenv)",
   "metadata": {
    "interpreter": {
     "hash": "e284c72d79b42194b3fe2a0767ff9cca6d233ae03063bab113c99e4bc6bd25a8"
    }
   }
  }
 },
 "nbformat": 4,
 "nbformat_minor": 2,
 "cells": [
  {
   "source": [
    "# 练习 3-1"
   ],
   "cell_type": "markdown",
   "metadata": {}
  },
  {
   "source": [
    "为MNIST训练一个分类器，并在测试集上达到97%的精度。\n",
    "\n",
    "- KNeighborsClassifier对这个任务非常有效，你只需要找到合适的超参数值即可"
   ],
   "cell_type": "markdown",
   "metadata": {}
  },
  {
   "cell_type": "code",
   "execution_count": 1,
   "metadata": {},
   "outputs": [],
   "source": [
    "%matplotlib inline\n",
    "import matplotlib\n",
    "import matplotlib.pyplot as plt\n",
    "import numpy as np\n",
    "from sklearn.datasets import fetch_openml"
   ]
  },
  {
   "cell_type": "code",
   "execution_count": 2,
   "metadata": {},
   "outputs": [
    {
     "output_type": "execute_result",
     "data": {
      "text/plain": "{&#39;data&#39;: array([[0., 0., 0., ..., 0., 0., 0.],\n        [0., 0., 0., ..., 0., 0., 0.],\n        [0., 0., 0., ..., 0., 0., 0.],\n        ...,\n        [0., 0., 0., ..., 0., 0., 0.],\n        [0., 0., 0., ..., 0., 0., 0.],\n        [0., 0., 0., ..., 0., 0., 0.]]),\n &#39;target&#39;: array([&#39;5&#39;, &#39;0&#39;, &#39;4&#39;, ..., &#39;4&#39;, &#39;5&#39;, &#39;6&#39;], dtype=object),\n &#39;frame&#39;: None,\n &#39;categories&#39;: {},\n &#39;feature_names&#39;: [&#39;pixel1&#39;,\n  &#39;pixel2&#39;,\n  &#39;pixel3&#39;,\n  &#39;pixel4&#39;,\n  &#39;pixel5&#39;,\n  &#39;pixel6&#39;,\n  &#39;pixel7&#39;,\n  &#39;pixel8&#39;,\n  &#39;pixel9&#39;,\n  &#39;pixel10&#39;,\n  &#39;pixel11&#39;,\n  &#39;pixel12&#39;,\n  &#39;pixel13&#39;,\n  &#39;pixel14&#39;,\n  &#39;pixel15&#39;,\n  &#39;pixel16&#39;,\n  &#39;pixel17&#39;,\n  &#39;pixel18&#39;,\n  &#39;pixel19&#39;,\n  &#39;pixel20&#39;,\n  &#39;pixel21&#39;,\n  &#39;pixel22&#39;,\n  &#39;pixel23&#39;,\n  &#39;pixel24&#39;,\n  &#39;pixel25&#39;,\n  &#39;pixel26&#39;,\n  &#39;pixel27&#39;,\n  &#39;pixel28&#39;,\n  &#39;pixel29&#39;,\n  &#39;pixel30&#39;,\n  &#39;pixel31&#39;,\n  &#39;pixel32&#39;,\n  &#39;pixel33&#39;,\n  &#39;pixel34&#39;,\n  &#39;pixel35&#39;,\n  &#39;pixel36&#39;,\n  &#39;pixel37&#39;,\n  &#39;pixel38&#39;,\n  &#39;pixel39&#39;,\n  &#39;pixel40&#39;,\n  &#39;pixel41&#39;,\n  &#39;pixel42&#39;,\n  &#39;pixel43&#39;,\n  &#39;pixel44&#39;,\n  &#39;pixel45&#39;,\n  &#39;pixel46&#39;,\n  &#39;pixel47&#39;,\n  &#39;pixel48&#39;,\n  &#39;pixel49&#39;,\n  &#39;pixel50&#39;,\n  &#39;pixel51&#39;,\n  &#39;pixel52&#39;,\n  &#39;pixel53&#39;,\n  &#39;pixel54&#39;,\n  &#39;pixel55&#39;,\n  &#39;pixel56&#39;,\n  &#39;pixel57&#39;,\n  &#39;pixel58&#39;,\n  &#39;pixel59&#39;,\n  &#39;pixel60&#39;,\n  &#39;pixel61&#39;,\n  &#39;pixel62&#39;,\n  &#39;pixel63&#39;,\n  &#39;pixel64&#39;,\n  &#39;pixel65&#39;,\n  &#39;pixel66&#39;,\n  &#39;pixel67&#39;,\n  &#39;pixel68&#39;,\n  &#39;pixel69&#39;,\n  &#39;pixel70&#39;,\n  &#39;pixel71&#39;,\n  &#39;pixel72&#39;,\n  &#39;pixel73&#39;,\n  &#39;pixel74&#39;,\n  &#39;pixel75&#39;,\n  &#39;pixel76&#39;,\n  &#39;pixel77&#39;,\n  &#39;pixel78&#39;,\n  &#39;pixel79&#39;,\n  &#39;pixel80&#39;,\n  &#39;pixel81&#39;,\n  &#39;pixel82&#39;,\n  &#39;pixel83&#39;,\n  &#39;pixel84&#39;,\n  &#39;pixel85&#39;,\n  &#39;pixel86&#39;,\n  &#39;pixel87&#39;,\n  &#39;pixel88&#39;,\n  &#39;pixel89&#39;,\n  &#39;pixel90&#39;,\n  &#39;pixel91&#39;,\n  &#39;pixel92&#39;,\n  &#39;pixel93&#39;,\n  &#39;pixel94&#39;,\n  &#39;pixel95&#39;,\n  &#39;pixel96&#39;,\n  &#39;pixel97&#39;,\n  &#39;pixel98&#39;,\n  &#39;pixel99&#39;,\n  &#39;pixel100&#39;,\n  &#39;pixel101&#39;,\n  &#39;pixel102&#39;,\n  &#39;pixel103&#39;,\n  &#39;pixel104&#39;,\n  &#39;pixel105&#39;,\n  &#39;pixel106&#39;,\n  &#39;pixel107&#39;,\n  &#39;pixel108&#39;,\n  &#39;pixel109&#39;,\n  &#39;pixel110&#39;,\n  &#39;pixel111&#39;,\n  &#39;pixel112&#39;,\n  &#39;pixel113&#39;,\n  &#39;pixel114&#39;,\n  &#39;pixel115&#39;,\n  &#39;pixel116&#39;,\n  &#39;pixel117&#39;,\n  &#39;pixel118&#39;,\n  &#39;pixel119&#39;,\n  &#39;pixel120&#39;,\n  &#39;pixel121&#39;,\n  &#39;pixel122&#39;,\n  &#39;pixel123&#39;,\n  &#39;pixel124&#39;,\n  &#39;pixel125&#39;,\n  &#39;pixel126&#39;,\n  &#39;pixel127&#39;,\n  &#39;pixel128&#39;,\n  &#39;pixel129&#39;,\n  &#39;pixel130&#39;,\n  &#39;pixel131&#39;,\n  &#39;pixel132&#39;,\n  &#39;pixel133&#39;,\n  &#39;pixel134&#39;,\n  &#39;pixel135&#39;,\n  &#39;pixel136&#39;,\n  &#39;pixel137&#39;,\n  &#39;pixel138&#39;,\n  &#39;pixel139&#39;,\n  &#39;pixel140&#39;,\n  &#39;pixel141&#39;,\n  &#39;pixel142&#39;,\n  &#39;pixel143&#39;,\n  &#39;pixel144&#39;,\n  &#39;pixel145&#39;,\n  &#39;pixel146&#39;,\n  &#39;pixel147&#39;,\n  &#39;pixel148&#39;,\n  &#39;pixel149&#39;,\n  &#39;pixel150&#39;,\n  &#39;pixel151&#39;,\n  &#39;pixel152&#39;,\n  &#39;pixel153&#39;,\n  &#39;pixel154&#39;,\n  &#39;pixel155&#39;,\n  &#39;pixel156&#39;,\n  &#39;pixel157&#39;,\n  &#39;pixel158&#39;,\n  &#39;pixel159&#39;,\n  &#39;pixel160&#39;,\n  &#39;pixel161&#39;,\n  &#39;pixel162&#39;,\n  &#39;pixel163&#39;,\n  &#39;pixel164&#39;,\n  &#39;pixel165&#39;,\n  &#39;pixel166&#39;,\n  &#39;pixel167&#39;,\n  &#39;pixel168&#39;,\n  &#39;pixel169&#39;,\n  &#39;pixel170&#39;,\n  &#39;pixel171&#39;,\n  &#39;pixel172&#39;,\n  &#39;pixel173&#39;,\n  &#39;pixel174&#39;,\n  &#39;pixel175&#39;,\n  &#39;pixel176&#39;,\n  &#39;pixel177&#39;,\n  &#39;pixel178&#39;,\n  &#39;pixel179&#39;,\n  &#39;pixel180&#39;,\n  &#39;pixel181&#39;,\n  &#39;pixel182&#39;,\n  &#39;pixel183&#39;,\n  &#39;pixel184&#39;,\n  &#39;pixel185&#39;,\n  &#39;pixel186&#39;,\n  &#39;pixel187&#39;,\n  &#39;pixel188&#39;,\n  &#39;pixel189&#39;,\n  &#39;pixel190&#39;,\n  &#39;pixel191&#39;,\n  &#39;pixel192&#39;,\n  &#39;pixel193&#39;,\n  &#39;pixel194&#39;,\n  &#39;pixel195&#39;,\n  &#39;pixel196&#39;,\n  &#39;pixel197&#39;,\n  &#39;pixel198&#39;,\n  &#39;pixel199&#39;,\n  &#39;pixel200&#39;,\n  &#39;pixel201&#39;,\n  &#39;pixel202&#39;,\n  &#39;pixel203&#39;,\n  &#39;pixel204&#39;,\n  &#39;pixel205&#39;,\n  &#39;pixel206&#39;,\n  &#39;pixel207&#39;,\n  &#39;pixel208&#39;,\n  &#39;pixel209&#39;,\n  &#39;pixel210&#39;,\n  &#39;pixel211&#39;,\n  &#39;pixel212&#39;,\n  &#39;pixel213&#39;,\n  &#39;pixel214&#39;,\n  &#39;pixel215&#39;,\n  &#39;pixel216&#39;,\n  &#39;pixel217&#39;,\n  &#39;pixel218&#39;,\n  &#39;pixel219&#39;,\n  &#39;pixel220&#39;,\n  &#39;pixel221&#39;,\n  &#39;pixel222&#39;,\n  &#39;pixel223&#39;,\n  &#39;pixel224&#39;,\n  &#39;pixel225&#39;,\n  &#39;pixel226&#39;,\n  &#39;pixel227&#39;,\n  &#39;pixel228&#39;,\n  &#39;pixel229&#39;,\n  &#39;pixel230&#39;,\n  &#39;pixel231&#39;,\n  &#39;pixel232&#39;,\n  &#39;pixel233&#39;,\n  &#39;pixel234&#39;,\n  &#39;pixel235&#39;,\n  &#39;pixel236&#39;,\n  &#39;pixel237&#39;,\n  &#39;pixel238&#39;,\n  &#39;pixel239&#39;,\n  &#39;pixel240&#39;,\n  &#39;pixel241&#39;,\n  &#39;pixel242&#39;,\n  &#39;pixel243&#39;,\n  &#39;pixel244&#39;,\n  &#39;pixel245&#39;,\n  &#39;pixel246&#39;,\n  &#39;pixel247&#39;,\n  &#39;pixel248&#39;,\n  &#39;pixel249&#39;,\n  &#39;pixel250&#39;,\n  &#39;pixel251&#39;,\n  &#39;pixel252&#39;,\n  &#39;pixel253&#39;,\n  &#39;pixel254&#39;,\n  &#39;pixel255&#39;,\n  &#39;pixel256&#39;,\n  &#39;pixel257&#39;,\n  &#39;pixel258&#39;,\n  &#39;pixel259&#39;,\n  &#39;pixel260&#39;,\n  &#39;pixel261&#39;,\n  &#39;pixel262&#39;,\n  &#39;pixel263&#39;,\n  &#39;pixel264&#39;,\n  &#39;pixel265&#39;,\n  &#39;pixel266&#39;,\n  &#39;pixel267&#39;,\n  &#39;pixel268&#39;,\n  &#39;pixel269&#39;,\n  &#39;pixel270&#39;,\n  &#39;pixel271&#39;,\n  &#39;pixel272&#39;,\n  &#39;pixel273&#39;,\n  &#39;pixel274&#39;,\n  &#39;pixel275&#39;,\n  &#39;pixel276&#39;,\n  &#39;pixel277&#39;,\n  &#39;pixel278&#39;,\n  &#39;pixel279&#39;,\n  &#39;pixel280&#39;,\n  &#39;pixel281&#39;,\n  &#39;pixel282&#39;,\n  &#39;pixel283&#39;,\n  &#39;pixel284&#39;,\n  &#39;pixel285&#39;,\n  &#39;pixel286&#39;,\n  &#39;pixel287&#39;,\n  &#39;pixel288&#39;,\n  &#39;pixel289&#39;,\n  &#39;pixel290&#39;,\n  &#39;pixel291&#39;,\n  &#39;pixel292&#39;,\n  &#39;pixel293&#39;,\n  &#39;pixel294&#39;,\n  &#39;pixel295&#39;,\n  &#39;pixel296&#39;,\n  &#39;pixel297&#39;,\n  &#39;pixel298&#39;,\n  &#39;pixel299&#39;,\n  &#39;pixel300&#39;,\n  &#39;pixel301&#39;,\n  &#39;pixel302&#39;,\n  &#39;pixel303&#39;,\n  &#39;pixel304&#39;,\n  &#39;pixel305&#39;,\n  &#39;pixel306&#39;,\n  &#39;pixel307&#39;,\n  &#39;pixel308&#39;,\n  &#39;pixel309&#39;,\n  &#39;pixel310&#39;,\n  &#39;pixel311&#39;,\n  &#39;pixel312&#39;,\n  &#39;pixel313&#39;,\n  &#39;pixel314&#39;,\n  &#39;pixel315&#39;,\n  &#39;pixel316&#39;,\n  &#39;pixel317&#39;,\n  &#39;pixel318&#39;,\n  &#39;pixel319&#39;,\n  &#39;pixel320&#39;,\n  &#39;pixel321&#39;,\n  &#39;pixel322&#39;,\n  &#39;pixel323&#39;,\n  &#39;pixel324&#39;,\n  &#39;pixel325&#39;,\n  &#39;pixel326&#39;,\n  &#39;pixel327&#39;,\n  &#39;pixel328&#39;,\n  &#39;pixel329&#39;,\n  &#39;pixel330&#39;,\n  &#39;pixel331&#39;,\n  &#39;pixel332&#39;,\n  &#39;pixel333&#39;,\n  &#39;pixel334&#39;,\n  &#39;pixel335&#39;,\n  &#39;pixel336&#39;,\n  &#39;pixel337&#39;,\n  &#39;pixel338&#39;,\n  &#39;pixel339&#39;,\n  &#39;pixel340&#39;,\n  &#39;pixel341&#39;,\n  &#39;pixel342&#39;,\n  &#39;pixel343&#39;,\n  &#39;pixel344&#39;,\n  &#39;pixel345&#39;,\n  &#39;pixel346&#39;,\n  &#39;pixel347&#39;,\n  &#39;pixel348&#39;,\n  &#39;pixel349&#39;,\n  &#39;pixel350&#39;,\n  &#39;pixel351&#39;,\n  &#39;pixel352&#39;,\n  &#39;pixel353&#39;,\n  &#39;pixel354&#39;,\n  &#39;pixel355&#39;,\n  &#39;pixel356&#39;,\n  &#39;pixel357&#39;,\n  &#39;pixel358&#39;,\n  &#39;pixel359&#39;,\n  &#39;pixel360&#39;,\n  &#39;pixel361&#39;,\n  &#39;pixel362&#39;,\n  &#39;pixel363&#39;,\n  &#39;pixel364&#39;,\n  &#39;pixel365&#39;,\n  &#39;pixel366&#39;,\n  &#39;pixel367&#39;,\n  &#39;pixel368&#39;,\n  &#39;pixel369&#39;,\n  &#39;pixel370&#39;,\n  &#39;pixel371&#39;,\n  &#39;pixel372&#39;,\n  &#39;pixel373&#39;,\n  &#39;pixel374&#39;,\n  &#39;pixel375&#39;,\n  &#39;pixel376&#39;,\n  &#39;pixel377&#39;,\n  &#39;pixel378&#39;,\n  &#39;pixel379&#39;,\n  &#39;pixel380&#39;,\n  &#39;pixel381&#39;,\n  &#39;pixel382&#39;,\n  &#39;pixel383&#39;,\n  &#39;pixel384&#39;,\n  &#39;pixel385&#39;,\n  &#39;pixel386&#39;,\n  &#39;pixel387&#39;,\n  &#39;pixel388&#39;,\n  &#39;pixel389&#39;,\n  &#39;pixel390&#39;,\n  &#39;pixel391&#39;,\n  &#39;pixel392&#39;,\n  &#39;pixel393&#39;,\n  &#39;pixel394&#39;,\n  &#39;pixel395&#39;,\n  &#39;pixel396&#39;,\n  &#39;pixel397&#39;,\n  &#39;pixel398&#39;,\n  &#39;pixel399&#39;,\n  &#39;pixel400&#39;,\n  &#39;pixel401&#39;,\n  &#39;pixel402&#39;,\n  &#39;pixel403&#39;,\n  &#39;pixel404&#39;,\n  &#39;pixel405&#39;,\n  &#39;pixel406&#39;,\n  &#39;pixel407&#39;,\n  &#39;pixel408&#39;,\n  &#39;pixel409&#39;,\n  &#39;pixel410&#39;,\n  &#39;pixel411&#39;,\n  &#39;pixel412&#39;,\n  &#39;pixel413&#39;,\n  &#39;pixel414&#39;,\n  &#39;pixel415&#39;,\n  &#39;pixel416&#39;,\n  &#39;pixel417&#39;,\n  &#39;pixel418&#39;,\n  &#39;pixel419&#39;,\n  &#39;pixel420&#39;,\n  &#39;pixel421&#39;,\n  &#39;pixel422&#39;,\n  &#39;pixel423&#39;,\n  &#39;pixel424&#39;,\n  &#39;pixel425&#39;,\n  &#39;pixel426&#39;,\n  &#39;pixel427&#39;,\n  &#39;pixel428&#39;,\n  &#39;pixel429&#39;,\n  &#39;pixel430&#39;,\n  &#39;pixel431&#39;,\n  &#39;pixel432&#39;,\n  &#39;pixel433&#39;,\n  &#39;pixel434&#39;,\n  &#39;pixel435&#39;,\n  &#39;pixel436&#39;,\n  &#39;pixel437&#39;,\n  &#39;pixel438&#39;,\n  &#39;pixel439&#39;,\n  &#39;pixel440&#39;,\n  &#39;pixel441&#39;,\n  &#39;pixel442&#39;,\n  &#39;pixel443&#39;,\n  &#39;pixel444&#39;,\n  &#39;pixel445&#39;,\n  &#39;pixel446&#39;,\n  &#39;pixel447&#39;,\n  &#39;pixel448&#39;,\n  &#39;pixel449&#39;,\n  &#39;pixel450&#39;,\n  &#39;pixel451&#39;,\n  &#39;pixel452&#39;,\n  &#39;pixel453&#39;,\n  &#39;pixel454&#39;,\n  &#39;pixel455&#39;,\n  &#39;pixel456&#39;,\n  &#39;pixel457&#39;,\n  &#39;pixel458&#39;,\n  &#39;pixel459&#39;,\n  &#39;pixel460&#39;,\n  &#39;pixel461&#39;,\n  &#39;pixel462&#39;,\n  &#39;pixel463&#39;,\n  &#39;pixel464&#39;,\n  &#39;pixel465&#39;,\n  &#39;pixel466&#39;,\n  &#39;pixel467&#39;,\n  &#39;pixel468&#39;,\n  &#39;pixel469&#39;,\n  &#39;pixel470&#39;,\n  &#39;pixel471&#39;,\n  &#39;pixel472&#39;,\n  &#39;pixel473&#39;,\n  &#39;pixel474&#39;,\n  &#39;pixel475&#39;,\n  &#39;pixel476&#39;,\n  &#39;pixel477&#39;,\n  &#39;pixel478&#39;,\n  &#39;pixel479&#39;,\n  &#39;pixel480&#39;,\n  &#39;pixel481&#39;,\n  &#39;pixel482&#39;,\n  &#39;pixel483&#39;,\n  &#39;pixel484&#39;,\n  &#39;pixel485&#39;,\n  &#39;pixel486&#39;,\n  &#39;pixel487&#39;,\n  &#39;pixel488&#39;,\n  &#39;pixel489&#39;,\n  &#39;pixel490&#39;,\n  &#39;pixel491&#39;,\n  &#39;pixel492&#39;,\n  &#39;pixel493&#39;,\n  &#39;pixel494&#39;,\n  &#39;pixel495&#39;,\n  &#39;pixel496&#39;,\n  &#39;pixel497&#39;,\n  &#39;pixel498&#39;,\n  &#39;pixel499&#39;,\n  &#39;pixel500&#39;,\n  &#39;pixel501&#39;,\n  &#39;pixel502&#39;,\n  &#39;pixel503&#39;,\n  &#39;pixel504&#39;,\n  &#39;pixel505&#39;,\n  &#39;pixel506&#39;,\n  &#39;pixel507&#39;,\n  &#39;pixel508&#39;,\n  &#39;pixel509&#39;,\n  &#39;pixel510&#39;,\n  &#39;pixel511&#39;,\n  &#39;pixel512&#39;,\n  &#39;pixel513&#39;,\n  &#39;pixel514&#39;,\n  &#39;pixel515&#39;,\n  &#39;pixel516&#39;,\n  &#39;pixel517&#39;,\n  &#39;pixel518&#39;,\n  &#39;pixel519&#39;,\n  &#39;pixel520&#39;,\n  &#39;pixel521&#39;,\n  &#39;pixel522&#39;,\n  &#39;pixel523&#39;,\n  &#39;pixel524&#39;,\n  &#39;pixel525&#39;,\n  &#39;pixel526&#39;,\n  &#39;pixel527&#39;,\n  &#39;pixel528&#39;,\n  &#39;pixel529&#39;,\n  &#39;pixel530&#39;,\n  &#39;pixel531&#39;,\n  &#39;pixel532&#39;,\n  &#39;pixel533&#39;,\n  &#39;pixel534&#39;,\n  &#39;pixel535&#39;,\n  &#39;pixel536&#39;,\n  &#39;pixel537&#39;,\n  &#39;pixel538&#39;,\n  &#39;pixel539&#39;,\n  &#39;pixel540&#39;,\n  &#39;pixel541&#39;,\n  &#39;pixel542&#39;,\n  &#39;pixel543&#39;,\n  &#39;pixel544&#39;,\n  &#39;pixel545&#39;,\n  &#39;pixel546&#39;,\n  &#39;pixel547&#39;,\n  &#39;pixel548&#39;,\n  &#39;pixel549&#39;,\n  &#39;pixel550&#39;,\n  &#39;pixel551&#39;,\n  &#39;pixel552&#39;,\n  &#39;pixel553&#39;,\n  &#39;pixel554&#39;,\n  &#39;pixel555&#39;,\n  &#39;pixel556&#39;,\n  &#39;pixel557&#39;,\n  &#39;pixel558&#39;,\n  &#39;pixel559&#39;,\n  &#39;pixel560&#39;,\n  &#39;pixel561&#39;,\n  &#39;pixel562&#39;,\n  &#39;pixel563&#39;,\n  &#39;pixel564&#39;,\n  &#39;pixel565&#39;,\n  &#39;pixel566&#39;,\n  &#39;pixel567&#39;,\n  &#39;pixel568&#39;,\n  &#39;pixel569&#39;,\n  &#39;pixel570&#39;,\n  &#39;pixel571&#39;,\n  &#39;pixel572&#39;,\n  &#39;pixel573&#39;,\n  &#39;pixel574&#39;,\n  &#39;pixel575&#39;,\n  &#39;pixel576&#39;,\n  &#39;pixel577&#39;,\n  &#39;pixel578&#39;,\n  &#39;pixel579&#39;,\n  &#39;pixel580&#39;,\n  &#39;pixel581&#39;,\n  &#39;pixel582&#39;,\n  &#39;pixel583&#39;,\n  &#39;pixel584&#39;,\n  &#39;pixel585&#39;,\n  &#39;pixel586&#39;,\n  &#39;pixel587&#39;,\n  &#39;pixel588&#39;,\n  &#39;pixel589&#39;,\n  &#39;pixel590&#39;,\n  &#39;pixel591&#39;,\n  &#39;pixel592&#39;,\n  &#39;pixel593&#39;,\n  &#39;pixel594&#39;,\n  &#39;pixel595&#39;,\n  &#39;pixel596&#39;,\n  &#39;pixel597&#39;,\n  &#39;pixel598&#39;,\n  &#39;pixel599&#39;,\n  &#39;pixel600&#39;,\n  &#39;pixel601&#39;,\n  &#39;pixel602&#39;,\n  &#39;pixel603&#39;,\n  &#39;pixel604&#39;,\n  &#39;pixel605&#39;,\n  &#39;pixel606&#39;,\n  &#39;pixel607&#39;,\n  &#39;pixel608&#39;,\n  &#39;pixel609&#39;,\n  &#39;pixel610&#39;,\n  &#39;pixel611&#39;,\n  &#39;pixel612&#39;,\n  &#39;pixel613&#39;,\n  &#39;pixel614&#39;,\n  &#39;pixel615&#39;,\n  &#39;pixel616&#39;,\n  &#39;pixel617&#39;,\n  &#39;pixel618&#39;,\n  &#39;pixel619&#39;,\n  &#39;pixel620&#39;,\n  &#39;pixel621&#39;,\n  &#39;pixel622&#39;,\n  &#39;pixel623&#39;,\n  &#39;pixel624&#39;,\n  &#39;pixel625&#39;,\n  &#39;pixel626&#39;,\n  &#39;pixel627&#39;,\n  &#39;pixel628&#39;,\n  &#39;pixel629&#39;,\n  &#39;pixel630&#39;,\n  &#39;pixel631&#39;,\n  &#39;pixel632&#39;,\n  &#39;pixel633&#39;,\n  &#39;pixel634&#39;,\n  &#39;pixel635&#39;,\n  &#39;pixel636&#39;,\n  &#39;pixel637&#39;,\n  &#39;pixel638&#39;,\n  &#39;pixel639&#39;,\n  &#39;pixel640&#39;,\n  &#39;pixel641&#39;,\n  &#39;pixel642&#39;,\n  &#39;pixel643&#39;,\n  &#39;pixel644&#39;,\n  &#39;pixel645&#39;,\n  &#39;pixel646&#39;,\n  &#39;pixel647&#39;,\n  &#39;pixel648&#39;,\n  &#39;pixel649&#39;,\n  &#39;pixel650&#39;,\n  &#39;pixel651&#39;,\n  &#39;pixel652&#39;,\n  &#39;pixel653&#39;,\n  &#39;pixel654&#39;,\n  &#39;pixel655&#39;,\n  &#39;pixel656&#39;,\n  &#39;pixel657&#39;,\n  &#39;pixel658&#39;,\n  &#39;pixel659&#39;,\n  &#39;pixel660&#39;,\n  &#39;pixel661&#39;,\n  &#39;pixel662&#39;,\n  &#39;pixel663&#39;,\n  &#39;pixel664&#39;,\n  &#39;pixel665&#39;,\n  &#39;pixel666&#39;,\n  &#39;pixel667&#39;,\n  &#39;pixel668&#39;,\n  &#39;pixel669&#39;,\n  &#39;pixel670&#39;,\n  &#39;pixel671&#39;,\n  &#39;pixel672&#39;,\n  &#39;pixel673&#39;,\n  &#39;pixel674&#39;,\n  &#39;pixel675&#39;,\n  &#39;pixel676&#39;,\n  &#39;pixel677&#39;,\n  &#39;pixel678&#39;,\n  &#39;pixel679&#39;,\n  &#39;pixel680&#39;,\n  &#39;pixel681&#39;,\n  &#39;pixel682&#39;,\n  &#39;pixel683&#39;,\n  &#39;pixel684&#39;,\n  &#39;pixel685&#39;,\n  &#39;pixel686&#39;,\n  &#39;pixel687&#39;,\n  &#39;pixel688&#39;,\n  &#39;pixel689&#39;,\n  &#39;pixel690&#39;,\n  &#39;pixel691&#39;,\n  &#39;pixel692&#39;,\n  &#39;pixel693&#39;,\n  &#39;pixel694&#39;,\n  &#39;pixel695&#39;,\n  &#39;pixel696&#39;,\n  &#39;pixel697&#39;,\n  &#39;pixel698&#39;,\n  &#39;pixel699&#39;,\n  &#39;pixel700&#39;,\n  &#39;pixel701&#39;,\n  &#39;pixel702&#39;,\n  &#39;pixel703&#39;,\n  &#39;pixel704&#39;,\n  &#39;pixel705&#39;,\n  &#39;pixel706&#39;,\n  &#39;pixel707&#39;,\n  &#39;pixel708&#39;,\n  &#39;pixel709&#39;,\n  &#39;pixel710&#39;,\n  &#39;pixel711&#39;,\n  &#39;pixel712&#39;,\n  &#39;pixel713&#39;,\n  &#39;pixel714&#39;,\n  &#39;pixel715&#39;,\n  &#39;pixel716&#39;,\n  &#39;pixel717&#39;,\n  &#39;pixel718&#39;,\n  &#39;pixel719&#39;,\n  &#39;pixel720&#39;,\n  &#39;pixel721&#39;,\n  &#39;pixel722&#39;,\n  &#39;pixel723&#39;,\n  &#39;pixel724&#39;,\n  &#39;pixel725&#39;,\n  &#39;pixel726&#39;,\n  &#39;pixel727&#39;,\n  &#39;pixel728&#39;,\n  &#39;pixel729&#39;,\n  &#39;pixel730&#39;,\n  &#39;pixel731&#39;,\n  &#39;pixel732&#39;,\n  &#39;pixel733&#39;,\n  &#39;pixel734&#39;,\n  &#39;pixel735&#39;,\n  &#39;pixel736&#39;,\n  &#39;pixel737&#39;,\n  &#39;pixel738&#39;,\n  &#39;pixel739&#39;,\n  &#39;pixel740&#39;,\n  &#39;pixel741&#39;,\n  &#39;pixel742&#39;,\n  &#39;pixel743&#39;,\n  &#39;pixel744&#39;,\n  &#39;pixel745&#39;,\n  &#39;pixel746&#39;,\n  &#39;pixel747&#39;,\n  &#39;pixel748&#39;,\n  &#39;pixel749&#39;,\n  &#39;pixel750&#39;,\n  &#39;pixel751&#39;,\n  &#39;pixel752&#39;,\n  &#39;pixel753&#39;,\n  &#39;pixel754&#39;,\n  &#39;pixel755&#39;,\n  &#39;pixel756&#39;,\n  &#39;pixel757&#39;,\n  &#39;pixel758&#39;,\n  &#39;pixel759&#39;,\n  &#39;pixel760&#39;,\n  &#39;pixel761&#39;,\n  &#39;pixel762&#39;,\n  &#39;pixel763&#39;,\n  &#39;pixel764&#39;,\n  &#39;pixel765&#39;,\n  &#39;pixel766&#39;,\n  &#39;pixel767&#39;,\n  &#39;pixel768&#39;,\n  &#39;pixel769&#39;,\n  &#39;pixel770&#39;,\n  &#39;pixel771&#39;,\n  &#39;pixel772&#39;,\n  &#39;pixel773&#39;,\n  &#39;pixel774&#39;,\n  &#39;pixel775&#39;,\n  &#39;pixel776&#39;,\n  &#39;pixel777&#39;,\n  &#39;pixel778&#39;,\n  &#39;pixel779&#39;,\n  &#39;pixel780&#39;,\n  &#39;pixel781&#39;,\n  &#39;pixel782&#39;,\n  &#39;pixel783&#39;,\n  &#39;pixel784&#39;],\n &#39;target_names&#39;: [&#39;class&#39;],\n &#39;DESCR&#39;: &quot;**Author**: Yann LeCun, Corinna Cortes, Christopher J.C. Burges  \\n**Source**: [MNIST Website](http://yann.lecun.com/exdb/mnist/) - Date unknown  \\n**Please cite**:  \\n\\nThe MNIST database of handwritten digits with 784 features, raw data available at: http://yann.lecun.com/exdb/mnist/. It can be split in a training set of the first 60,000 examples, and a test set of 10,000 examples  \\n\\nIt is a subset of a larger set available from NIST. The digits have been size-normalized and centered in a fixed-size image. It is a good database for people who want to try learning techniques and pattern recognition methods on real-world data while spending minimal efforts on preprocessing and formatting. The original black and white (bilevel) images from NIST were size normalized to fit in a 20x20 pixel box while preserving their aspect ratio. The resulting images contain grey levels as a result of the anti-aliasing technique used by the normalization algorithm. the images were centered in a 28x28 image by computing the center of mass of the pixels, and translating the image so as to position this point at the center of the 28x28 field.  \\n\\nWith some classification methods (particularly template-based methods, such as SVM and K-nearest neighbors), the error rate improves when the digits are centered by bounding box rather than center of mass. If you do this kind of pre-processing, you should report it in your publications. The MNIST database was constructed from NIST&#39;s NIST originally designated SD-3 as their training set and SD-1 as their test set. However, SD-3 is much cleaner and easier to recognize than SD-1. The reason for this can be found on the fact that SD-3 was collected among Census Bureau employees, while SD-1 was collected among high-school students. Drawing sensible conclusions from learning experiments requires that the result be independent of the choice of training set and test among the complete set of samples. Therefore it was necessary to build a new database by mixing NIST&#39;s datasets.  \\n\\nThe MNIST training set is composed of 30,000 patterns from SD-3 and 30,000 patterns from SD-1. Our test set was composed of 5,000 patterns from SD-3 and 5,000 patterns from SD-1. The 60,000 pattern training set contained examples from approximately 250 writers. We made sure that the sets of writers of the training set and test set were disjoint. SD-1 contains 58,527 digit images written by 500 different writers. In contrast to SD-3, where blocks of data from each writer appeared in sequence, the data in SD-1 is scrambled. Writer identities for SD-1 is available and we used this information to unscramble the writers. We then split SD-1 in two: characters written by the first 250 writers went into our new training set. The remaining 250 writers were placed in our test set. Thus we had two sets with nearly 30,000 examples each. The new training set was completed with enough examples from SD-3, starting at pattern # 0, to make a full set of 60,000 training patterns. Similarly, the new test set was completed with SD-3 examples starting at pattern # 35,000 to make a full set with 60,000 test patterns. Only a subset of 10,000 test images (5,000 from SD-1 and 5,000 from SD-3) is available on this site. The full 60,000 sample training set is available.\\n\\nDownloaded from openml.org.&quot;,\n &#39;details&#39;: {&#39;id&#39;: &#39;554&#39;,\n  &#39;name&#39;: &#39;mnist_784&#39;,\n  &#39;version&#39;: &#39;1&#39;,\n  &#39;format&#39;: &#39;ARFF&#39;,\n  &#39;upload_date&#39;: &#39;2014-09-29T03:28:38&#39;,\n  &#39;licence&#39;: &#39;Public&#39;,\n  &#39;url&#39;: &#39;https://www.openml.org/data/v1/download/52667/mnist_784.arff&#39;,\n  &#39;file_id&#39;: &#39;52667&#39;,\n  &#39;default_target_attribute&#39;: &#39;class&#39;,\n  &#39;tag&#39;: [&#39;AzurePilot&#39;,\n   &#39;OpenML-CC18&#39;,\n   &#39;OpenML100&#39;,\n   &#39;study_1&#39;,\n   &#39;study_123&#39;,\n   &#39;study_41&#39;,\n   &#39;study_99&#39;,\n   &#39;vision&#39;],\n  &#39;visibility&#39;: &#39;public&#39;,\n  &#39;status&#39;: &#39;active&#39;,\n  &#39;processing_date&#39;: &#39;2018-10-03 21:23:30&#39;,\n  &#39;md5_checksum&#39;: &#39;0298d579eb1b86163de7723944c7e495&#39;},\n &#39;url&#39;: &#39;https://www.openml.org/d/554&#39;}"
     },
     "metadata": {},
     "execution_count": 2
    }
   ],
   "source": [
    "# 下载MNIST数据集\n",
    "mnist = fetch_openml('mnist_784')\n",
    "mnist"
   ]
  },
  {
   "cell_type": "code",
   "execution_count": 3,
   "metadata": {},
   "outputs": [
    {
     "output_type": "execute_result",
     "data": {
      "text/plain": "(70000, 70000)"
     },
     "metadata": {},
     "execution_count": 3
    }
   ],
   "source": [
    "mnist_data = mnist['data']\n",
    "mnist_label = mnist['target'].astype(np.uint8)\n",
    "len(mnist_data), len(mnist_label)"
   ]
  },
  {
   "cell_type": "code",
   "execution_count": 4,
   "metadata": {},
   "outputs": [
    {
     "output_type": "execute_result",
     "data": {
      "text/plain": "array([5, 0, 4, 1, 9, 2, 1, 3, 1, 4], dtype=uint8)"
     },
     "metadata": {},
     "execution_count": 4
    }
   ],
   "source": [
    "X_train, y_train, X_test, y_test = mnist_data[:60000], mnist_label[:60000], mnist_data[60000:], mnist_label[60000:]\n",
    "y_train[:10]"
   ]
  },
  {
   "cell_type": "code",
   "execution_count": 5,
   "metadata": {},
   "outputs": [
    {
     "output_type": "execute_result",
     "data": {
      "text/plain": "&lt;matplotlib.image.AxesImage at 0x7ffe48ed2790&gt;"
     },
     "metadata": {},
     "execution_count": 5
    },
    {
     "output_type": "display_data",
     "data": {
      "text/plain": "&lt;Figure size 432x288 with 1 Axes&gt;",
      "image/svg+xml": "<?xml version=\"1.0\" encoding=\"utf-8\" standalone=\"no\"?>\n<!DOCTYPE svg PUBLIC \"-//W3C//DTD SVG 1.1//EN\"\n  \"http://www.w3.org/Graphics/SVG/1.1/DTD/svg11.dtd\">\n<!-- Created with matplotlib (https://matplotlib.org/) -->\n<svg height=\"248.518125pt\" version=\"1.1\" viewBox=\"0 0 251.565 248.518125\" width=\"251.565pt\" xmlns=\"http://www.w3.org/2000/svg\" xmlns:xlink=\"http://www.w3.org/1999/xlink\">\n <metadata>\n  <rdf:RDF xmlns:cc=\"http://creativecommons.org/ns#\" xmlns:dc=\"http://purl.org/dc/elements/1.1/\" xmlns:rdf=\"http://www.w3.org/1999/02/22-rdf-syntax-ns#\">\n   <cc:Work>\n    <dc:type rdf:resource=\"http://purl.org/dc/dcmitype/StillImage\"/>\n    <dc:date>2020-10-08T17:28:00.097626</dc:date>\n    <dc:format>image/svg+xml</dc:format>\n    <dc:creator>\n     <cc:Agent>\n      <dc:title>Matplotlib v3.3.2, https://matplotlib.org/</dc:title>\n     </cc:Agent>\n    </dc:creator>\n   </cc:Work>\n  </rdf:RDF>\n </metadata>\n <defs>\n  <style type=\"text/css\">*{stroke-linecap:butt;stroke-linejoin:round;}</style>\n </defs>\n <g id=\"figure_1\">\n  <g id=\"patch_1\">\n   <path d=\"M 0 248.518125 \nL 251.565 248.518125 \nL 251.565 0 \nL 0 0 \nz\n\" style=\"fill:none;\"/>\n  </g>\n  <g id=\"axes_1\">\n   <g id=\"patch_2\">\n    <path d=\"M 26.925 224.64 \nL 244.365 224.64 \nL 244.365 7.2 \nL 26.925 7.2 \nz\n\" style=\"fill:#ffffff;\"/>\n   </g>\n   <g clip-path=\"url(#p1cc0f43db9)\">\n    <image height=\"218\" id=\"image86aa3541e0\" transform=\"scale(1 -1)translate(0 -218)\" width=\"218\" x=\"26.925\" xlink:href=\"data:image/png;base64,\niVBORw0KGgoAAAANSUhEUgAAANoAAADaCAYAAADAHVzbAAAEBElEQVR4nO3dUU7bQBRAUadiX5CVJVkZ7Ix+V0UetdO5Ts05vxGJabkayU8vvnx+fn5uwFI/jr4A+A6EBgGhQUBoEBAaBIQGAaFBQGgQEBoEhAYBoUFAaBAQGgSEBgGhQUBoEBAaBIQGAaFBQGgQEBoEhAaBl6Mv4Cj3+3339cfjseyz397edl+/3W5TP8/zcaJBQGgQEBoEhAYBoUFAaBAQGgQuZ31s08fHx+7r1+u1uZAFRnO20YyQnhMNAkKDgNAgIDQICA0CQoOA0CBw2jna5XKZ+vnZWdXe6yt33bbNnO0ZOdEgIDQICA0CQoOA0CAgNAgIDQKn/V7H0XcfjvbVZu3NqkbX9j/vyvE1JxoEhAYBoUFAaBAQGgSEBgGhQeDQfbTRLGvmOWCzzz878hlmozna7AzwpCuIT82JBgGhQUBoEBAaBIQGAaFB4LRrMrO392dvoc/c3ud8nGgQEBoEhAYBoUFAaBAQGgSEBoHTPrZpZDQnW/mVb6MVm9nHOo1meO/v71Pvz59zokFAaBAQGgSEBgGhQUBoEBAaBE67jzYyO2ua2WebnZONvL6+Ln1//pwTDQJCg4DQICA0CAgNAkKDgNAg8G330Va7XC6HfbZ9tOfjRIOA0CAgNAgIDQJCg4DQIOD2/iJ7j41avSYzY3Tr3+Oo/o4TDQJCg4DQICA0CAgNAkKDgNAgYI62yJFrMitZwfk7TjQICA0CQoOA0CAgNAgIDQJCg4A52iIr52ij/7K9R0Zt27Zdr9d/eDW/Mmf7mhMNAkKDgNAgIDQICA0CQoOA0CBgjrbIkXO0Gav36PbmbGeesTnRICA0CAgNAkKDgNAgIDQICA0C5miL/K9ztJHRLttoF27PmXfZnGgQEBoEhAYBoUFAaBAQGgTc3l/krLf3R9z+/5oTDQJCg4DQICA0CAgNAkKDgNAgYI62yN48aWaWtG3jedFo3nSklfPFZ/53caJBQGgQEBoEhAYBoUFAaBAQGgTM0Q6w+tFIzzxPWvm7P/O+mhMNAkKDgNAgIDQICA0CQoOA0CBgjnaA+/2++/rj8Vj6+XvzptvtNvXeo2uf3cWbceSfuhMNAkKDgNAgIDQICA0CQoOA0CBgjvaERrOm0TPIvqvRDHA0v1zJiQYBoUFAaBAQGgSEBgGhQeDl6Avgd6OvTZudyOzd5l69orP3lW+jscbqa1vJiQYBoUFAaBAQGgSEBgGhQUBoELAmAwEnGgSEBgGhQUBoEBAaBIQGAaFBQGgQEBoEhAYBoUFAaBAQGgSEBgGhQUBoEBAaBIQGAaFBQGgQEBoEhAYBoUFAaBAQGgSEBgGhQUBoEBAaBIQGAaFBQGgQEBoEhAYBoUFAaBAQGgSEBoGfA0TiMHpjLRoAAAAASUVORK5CYII=\" y=\"-6.64\"/>\n   </g>\n   <g id=\"matplotlib.axis_1\">\n    <g id=\"xtick_1\">\n     <g id=\"line2d_1\">\n      <defs>\n       <path d=\"M 0 0 \nL 0 3.5 \n\" id=\"mea23d844c7\" style=\"stroke:#000000;stroke-width:0.8;\"/>\n      </defs>\n      <g>\n       <use style=\"stroke:#000000;stroke-width:0.8;\" x=\"30.807857\" xlink:href=\"#mea23d844c7\" y=\"224.64\"/>\n      </g>\n     </g>\n     <g id=\"text_1\">\n      <!-- 0 -->\n      <g transform=\"translate(27.626607 239.238437)scale(0.1 -0.1)\">\n       <defs>\n        <path d=\"M 31.78125 66.40625 \nQ 24.171875 66.40625 20.328125 58.90625 \nQ 16.5 51.421875 16.5 36.375 \nQ 16.5 21.390625 20.328125 13.890625 \nQ 24.171875 6.390625 31.78125 6.390625 \nQ 39.453125 6.390625 43.28125 13.890625 \nQ 47.125 21.390625 47.125 36.375 \nQ 47.125 51.421875 43.28125 58.90625 \nQ 39.453125 66.40625 31.78125 66.40625 \nz\nM 31.78125 74.21875 \nQ 44.046875 74.21875 50.515625 64.515625 \nQ 56.984375 54.828125 56.984375 36.375 \nQ 56.984375 17.96875 50.515625 8.265625 \nQ 44.046875 -1.421875 31.78125 -1.421875 \nQ 19.53125 -1.421875 13.0625 8.265625 \nQ 6.59375 17.96875 6.59375 36.375 \nQ 6.59375 54.828125 13.0625 64.515625 \nQ 19.53125 74.21875 31.78125 74.21875 \nz\n\" id=\"DejaVuSans-48\"/>\n       </defs>\n       <use xlink:href=\"#DejaVuSans-48\"/>\n      </g>\n     </g>\n    </g>\n    <g id=\"xtick_2\">\n     <g id=\"line2d_2\">\n      <g>\n       <use style=\"stroke:#000000;stroke-width:0.8;\" x=\"69.636429\" xlink:href=\"#mea23d844c7\" y=\"224.64\"/>\n      </g>\n     </g>\n     <g id=\"text_2\">\n      <!-- 5 -->\n      <g transform=\"translate(66.455179 239.238437)scale(0.1 -0.1)\">\n       <defs>\n        <path d=\"M 10.796875 72.90625 \nL 49.515625 72.90625 \nL 49.515625 64.59375 \nL 19.828125 64.59375 \nL 19.828125 46.734375 \nQ 21.96875 47.46875 24.109375 47.828125 \nQ 26.265625 48.1875 28.421875 48.1875 \nQ 40.625 48.1875 47.75 41.5 \nQ 54.890625 34.8125 54.890625 23.390625 \nQ 54.890625 11.625 47.5625 5.09375 \nQ 40.234375 -1.421875 26.90625 -1.421875 \nQ 22.3125 -1.421875 17.546875 -0.640625 \nQ 12.796875 0.140625 7.71875 1.703125 \nL 7.71875 11.625 \nQ 12.109375 9.234375 16.796875 8.0625 \nQ 21.484375 6.890625 26.703125 6.890625 \nQ 35.15625 6.890625 40.078125 11.328125 \nQ 45.015625 15.765625 45.015625 23.390625 \nQ 45.015625 31 40.078125 35.4375 \nQ 35.15625 39.890625 26.703125 39.890625 \nQ 22.75 39.890625 18.8125 39.015625 \nQ 14.890625 38.140625 10.796875 36.28125 \nz\n\" id=\"DejaVuSans-53\"/>\n       </defs>\n       <use xlink:href=\"#DejaVuSans-53\"/>\n      </g>\n     </g>\n    </g>\n    <g id=\"xtick_3\">\n     <g id=\"line2d_3\">\n      <g>\n       <use style=\"stroke:#000000;stroke-width:0.8;\" x=\"108.465\" xlink:href=\"#mea23d844c7\" y=\"224.64\"/>\n      </g>\n     </g>\n     <g id=\"text_3\">\n      <!-- 10 -->\n      <g transform=\"translate(102.1025 239.238437)scale(0.1 -0.1)\">\n       <defs>\n        <path d=\"M 12.40625 8.296875 \nL 28.515625 8.296875 \nL 28.515625 63.921875 \nL 10.984375 60.40625 \nL 10.984375 69.390625 \nL 28.421875 72.90625 \nL 38.28125 72.90625 \nL 38.28125 8.296875 \nL 54.390625 8.296875 \nL 54.390625 0 \nL 12.40625 0 \nz\n\" id=\"DejaVuSans-49\"/>\n       </defs>\n       <use xlink:href=\"#DejaVuSans-49\"/>\n       <use x=\"63.623047\" xlink:href=\"#DejaVuSans-48\"/>\n      </g>\n     </g>\n    </g>\n    <g id=\"xtick_4\">\n     <g id=\"line2d_4\">\n      <g>\n       <use style=\"stroke:#000000;stroke-width:0.8;\" x=\"147.293571\" xlink:href=\"#mea23d844c7\" y=\"224.64\"/>\n      </g>\n     </g>\n     <g id=\"text_4\">\n      <!-- 15 -->\n      <g transform=\"translate(140.931071 239.238437)scale(0.1 -0.1)\">\n       <use xlink:href=\"#DejaVuSans-49\"/>\n       <use x=\"63.623047\" xlink:href=\"#DejaVuSans-53\"/>\n      </g>\n     </g>\n    </g>\n    <g id=\"xtick_5\">\n     <g id=\"line2d_5\">\n      <g>\n       <use style=\"stroke:#000000;stroke-width:0.8;\" x=\"186.122143\" xlink:href=\"#mea23d844c7\" y=\"224.64\"/>\n      </g>\n     </g>\n     <g id=\"text_5\">\n      <!-- 20 -->\n      <g transform=\"translate(179.759643 239.238437)scale(0.1 -0.1)\">\n       <defs>\n        <path d=\"M 19.1875 8.296875 \nL 53.609375 8.296875 \nL 53.609375 0 \nL 7.328125 0 \nL 7.328125 8.296875 \nQ 12.9375 14.109375 22.625 23.890625 \nQ 32.328125 33.6875 34.8125 36.53125 \nQ 39.546875 41.84375 41.421875 45.53125 \nQ 43.3125 49.21875 43.3125 52.78125 \nQ 43.3125 58.59375 39.234375 62.25 \nQ 35.15625 65.921875 28.609375 65.921875 \nQ 23.96875 65.921875 18.8125 64.3125 \nQ 13.671875 62.703125 7.8125 59.421875 \nL 7.8125 69.390625 \nQ 13.765625 71.78125 18.9375 73 \nQ 24.125 74.21875 28.421875 74.21875 \nQ 39.75 74.21875 46.484375 68.546875 \nQ 53.21875 62.890625 53.21875 53.421875 \nQ 53.21875 48.921875 51.53125 44.890625 \nQ 49.859375 40.875 45.40625 35.40625 \nQ 44.1875 33.984375 37.640625 27.21875 \nQ 31.109375 20.453125 19.1875 8.296875 \nz\n\" id=\"DejaVuSans-50\"/>\n       </defs>\n       <use xlink:href=\"#DejaVuSans-50\"/>\n       <use x=\"63.623047\" xlink:href=\"#DejaVuSans-48\"/>\n      </g>\n     </g>\n    </g>\n    <g id=\"xtick_6\">\n     <g id=\"line2d_6\">\n      <g>\n       <use style=\"stroke:#000000;stroke-width:0.8;\" x=\"224.950714\" xlink:href=\"#mea23d844c7\" y=\"224.64\"/>\n      </g>\n     </g>\n     <g id=\"text_6\">\n      <!-- 25 -->\n      <g transform=\"translate(218.588214 239.238437)scale(0.1 -0.1)\">\n       <use xlink:href=\"#DejaVuSans-50\"/>\n       <use x=\"63.623047\" xlink:href=\"#DejaVuSans-53\"/>\n      </g>\n     </g>\n    </g>\n   </g>\n   <g id=\"matplotlib.axis_2\">\n    <g id=\"ytick_1\">\n     <g id=\"line2d_7\">\n      <defs>\n       <path d=\"M 0 0 \nL -3.5 0 \n\" id=\"m6d98573c5f\" style=\"stroke:#000000;stroke-width:0.8;\"/>\n      </defs>\n      <g>\n       <use style=\"stroke:#000000;stroke-width:0.8;\" x=\"26.925\" xlink:href=\"#m6d98573c5f\" y=\"11.082857\"/>\n      </g>\n     </g>\n     <g id=\"text_7\">\n      <!-- 0 -->\n      <g transform=\"translate(13.5625 14.882076)scale(0.1 -0.1)\">\n       <use xlink:href=\"#DejaVuSans-48\"/>\n      </g>\n     </g>\n    </g>\n    <g id=\"ytick_2\">\n     <g id=\"line2d_8\">\n      <g>\n       <use style=\"stroke:#000000;stroke-width:0.8;\" x=\"26.925\" xlink:href=\"#m6d98573c5f\" y=\"49.911429\"/>\n      </g>\n     </g>\n     <g id=\"text_8\">\n      <!-- 5 -->\n      <g transform=\"translate(13.5625 53.710647)scale(0.1 -0.1)\">\n       <use xlink:href=\"#DejaVuSans-53\"/>\n      </g>\n     </g>\n    </g>\n    <g id=\"ytick_3\">\n     <g id=\"line2d_9\">\n      <g>\n       <use style=\"stroke:#000000;stroke-width:0.8;\" x=\"26.925\" xlink:href=\"#m6d98573c5f\" y=\"88.74\"/>\n      </g>\n     </g>\n     <g id=\"text_9\">\n      <!-- 10 -->\n      <g transform=\"translate(7.2 92.539219)scale(0.1 -0.1)\">\n       <use xlink:href=\"#DejaVuSans-49\"/>\n       <use x=\"63.623047\" xlink:href=\"#DejaVuSans-48\"/>\n      </g>\n     </g>\n    </g>\n    <g id=\"ytick_4\">\n     <g id=\"line2d_10\">\n      <g>\n       <use style=\"stroke:#000000;stroke-width:0.8;\" x=\"26.925\" xlink:href=\"#m6d98573c5f\" y=\"127.568571\"/>\n      </g>\n     </g>\n     <g id=\"text_10\">\n      <!-- 15 -->\n      <g transform=\"translate(7.2 131.36779)scale(0.1 -0.1)\">\n       <use xlink:href=\"#DejaVuSans-49\"/>\n       <use x=\"63.623047\" xlink:href=\"#DejaVuSans-53\"/>\n      </g>\n     </g>\n    </g>\n    <g id=\"ytick_5\">\n     <g id=\"line2d_11\">\n      <g>\n       <use style=\"stroke:#000000;stroke-width:0.8;\" x=\"26.925\" xlink:href=\"#m6d98573c5f\" y=\"166.397143\"/>\n      </g>\n     </g>\n     <g id=\"text_11\">\n      <!-- 20 -->\n      <g transform=\"translate(7.2 170.196362)scale(0.1 -0.1)\">\n       <use xlink:href=\"#DejaVuSans-50\"/>\n       <use x=\"63.623047\" xlink:href=\"#DejaVuSans-48\"/>\n      </g>\n     </g>\n    </g>\n    <g id=\"ytick_6\">\n     <g id=\"line2d_12\">\n      <g>\n       <use style=\"stroke:#000000;stroke-width:0.8;\" x=\"26.925\" xlink:href=\"#m6d98573c5f\" y=\"205.225714\"/>\n      </g>\n     </g>\n     <g id=\"text_12\">\n      <!-- 25 -->\n      <g transform=\"translate(7.2 209.024933)scale(0.1 -0.1)\">\n       <use xlink:href=\"#DejaVuSans-50\"/>\n       <use x=\"63.623047\" xlink:href=\"#DejaVuSans-53\"/>\n      </g>\n     </g>\n    </g>\n   </g>\n   <g id=\"patch_3\">\n    <path d=\"M 26.925 224.64 \nL 26.925 7.2 \n\" style=\"fill:none;stroke:#000000;stroke-linecap:square;stroke-linejoin:miter;stroke-width:0.8;\"/>\n   </g>\n   <g id=\"patch_4\">\n    <path d=\"M 244.365 224.64 \nL 244.365 7.2 \n\" style=\"fill:none;stroke:#000000;stroke-linecap:square;stroke-linejoin:miter;stroke-width:0.8;\"/>\n   </g>\n   <g id=\"patch_5\">\n    <path d=\"M 26.925 224.64 \nL 244.365 224.64 \n\" style=\"fill:none;stroke:#000000;stroke-linecap:square;stroke-linejoin:miter;stroke-width:0.8;\"/>\n   </g>\n   <g id=\"patch_6\">\n    <path d=\"M 26.925 7.2 \nL 244.365 7.2 \n\" style=\"fill:none;stroke:#000000;stroke-linecap:square;stroke-linejoin:miter;stroke-width:0.8;\"/>\n   </g>\n  </g>\n </g>\n <defs>\n  <clipPath id=\"p1cc0f43db9\">\n   <rect height=\"217.44\" width=\"217.44\" x=\"26.925\" y=\"7.2\"/>\n  </clipPath>\n </defs>\n</svg>\n",
      "image/png": "[encoded data removed]"
     },
     "metadata": {
      "needs_background": "light"
     }
    }
   ],
   "source": [
    "# 无论合适都要养成对数据进行清洗的好习惯\n",
    "shuffled_index = np.random.permutation(len(X_train))\n",
    "X_train, y_train = X_train[shuffled_index], y_train[shuffled_index]\n",
    "\n",
    "some_digit = X_train[10]\n",
    "some_digit_label = y_train[10]\n",
    "\n",
    "plt.imshow(some_digit.reshape(28, 28), cmap=matplotlib.cm.binary)"
   ]
  },
  {
   "cell_type": "code",
   "execution_count": 6,
   "metadata": {},
   "outputs": [
    {
     "output_type": "execute_result",
     "data": {
      "text/plain": "8"
     },
     "metadata": {},
     "execution_count": 6
    }
   ],
   "source": [
    "some_digit_label"
   ]
  },
  {
   "cell_type": "code",
   "execution_count": 7,
   "metadata": {},
   "outputs": [
    {
     "output_type": "execute_result",
     "data": {
      "text/plain": "KNeighborsClassifier()"
     },
     "metadata": {},
     "execution_count": 7
    }
   ],
   "source": [
    "from sklearn.model_selection import cross_val_predict, cross_val_score\n",
    "from sklearn.metrics import accuracy_score\n",
    "from sklearn.neighbors import KNeighborsClassifier\n",
    "knn_clf = KNeighborsClassifier()\n",
    "knn_clf"
   ]
  },
  {
   "cell_type": "code",
   "execution_count": 8,
   "metadata": {},
   "outputs": [
    {
     "output_type": "execute_result",
     "data": {
      "text/plain": "0.9688"
     },
     "metadata": {},
     "execution_count": 8
    }
   ],
   "source": [
    "#cross_val_score(knn_clf, X_train, y_train, cv=3, scoring='accuracy', n_jobs=-1)\n",
    "knn_clf.fit(X_train, y_train)\n",
    "y_pred = knn_clf.predict(X_test)\n",
    "accuracy_score(y_test, y_pred)"
   ]
  },
  {
   "source": [
    "## 使用网络搜索找到最佳的参数"
   ],
   "cell_type": "markdown",
   "metadata": {}
  },
  {
   "cell_type": "code",
   "execution_count": 9,
   "metadata": {},
   "outputs": [],
   "source": [
    "from sklearn.model_selection import GridSearchCV"
   ]
  },
  {
   "cell_type": "code",
   "execution_count": 10,
   "metadata": {},
   "outputs": [],
   "source": [
    "param_grid=[{\n",
    "    'weights': ['uniform', 'distance'],\n",
    "    'n_neighbors': [2, 3, 4, 5, 6, 7, 8, 9],\n",
    "    'algorithm': ['ball_tree', 'kd_tree', 'brute']\n",
    "}]\n",
    "grid_search = GridSearchCV(knn_clf, param_grid, cv=3, verbose=3, n_jobs=-1)"
   ]
  },
  {
   "cell_type": "code",
   "execution_count": null,
   "metadata": {},
   "outputs": [],
   "source": [
    "grid_search.fit(X_train, y_train)"
   ]
  },
  {
   "cell_type": "code",
   "execution_count": null,
   "metadata": {},
   "outputs": [],
   "source": [
    "grid_search.best_score_, grid_search.best_params_"
   ]
  },
  {
   "cell_type": "code",
   "execution_count": null,
   "metadata": {},
   "outputs": [],
   "source": [
    "y_pred = grid_search.predict(X_test)\n",
    "accuracy_score(y_test, y_pred)"
   ]
  },
  {
   "source": [
    "## 对模型进行更多探索"
   ],
   "cell_type": "markdown",
   "metadata": {}
  },
  {
   "cell_type": "code",
   "execution_count": null,
   "metadata": {},
   "outputs": [],
   "source": [
    "# 说先把网格搜索出来的比较好的模型实例化出来\n",
    "knn_clf = KNeighborsClassifier(**grid_search.best_params_)"
   ]
  },
  {
   "source": [
    "### 混淆矩阵\n",
    "#### 1. 计算混淆矩阵"
   ],
   "cell_type": "markdown",
   "metadata": {}
  },
  {
   "cell_type": "code",
   "execution_count": null,
   "metadata": {},
   "outputs": [],
   "source": [
    "y_train_pred = cross_val_predict(knn_clf, X_train, y_train, cv=3)\n",
    "from sklearn.metrics import confusion_matrix\n",
    "conf_mx = confusion_matrix(y_train, y_train_pred)\n",
    "conf_mx"
   ]
  },
  {
   "source": [
    "#### 2. 可视化混淆矩阵"
   ],
   "cell_type": "markdown",
   "metadata": {}
  },
  {
   "cell_type": "code",
   "execution_count": null,
   "metadata": {},
   "outputs": [],
   "source": [
    "row_sums = conf_mx.sum(axis=1, keepdims=True)\n",
    "norm_conf_mx = conf_mx/row_sums\n",
    "norm_conf_mx"
   ]
  },
  {
   "cell_type": "code",
   "execution_count": null,
   "metadata": {},
   "outputs": [],
   "source": [
    "np.fill_diagonal(norm_conf_mx, 0) #对角线填充为0\n",
    "plt.figure(figsize=(8, 8))\n",
    "plt.matshow(norm_conf_mx, cmap= plt.cm.gray)\n",
    "plt.show()"
   ]
  },
  {
   "source": [
    "### 计算Precision/Recall\n",
    "#### 1. 计算Precision和Recall"
   ],
   "cell_type": "markdown",
   "metadata": {}
  },
  {
   "cell_type": "code",
   "execution_count": null,
   "metadata": {},
   "outputs": [],
   "source": [
    "from sklearn.metrics import precision_score, recall_score\n",
    "y_pred = knn_clf.predict(X_test)\n",
    "\n"
   ]
  },
  {
   "cell_type": "code",
   "execution_count": null,
   "metadata": {},
   "outputs": [],
   "source": [
    "precision_score(y_test, y_pred, average='macro'), recall_score(y_test, y_pred, average='macro')"
   ]
  }
 ]
}