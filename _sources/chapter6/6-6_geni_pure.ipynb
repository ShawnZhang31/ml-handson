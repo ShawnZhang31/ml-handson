{
 "metadata": {
  "language_info": {
   "codemirror_mode": {
    "name": "ipython",
    "version": 3
   },
   "file_extension": ".py",
   "mimetype": "text/x-python",
   "name": "python",
   "nbconvert_exporter": "python",
   "pygments_lexer": "ipython3",
   "version": 3
  },
  "orig_nbformat": 2
 },
 "nbformat": 4,
 "nbformat_minor": 2,
 "cells": [
  {
   "source": [
    "# 6.6 基尼不纯度\n",
    "\n",
    "默认使用基尼不纯度进行测量，不过可以将超参数`criterion`设置为`entropy`来选择使用熵的形式进行测量。\n",
    "\n",
    "公式6-3\n",
    "\n",
    "$$\n",
    "H_i = - \\sum_{k=1}^n p_{i, k} log_2(p_{i, k})       \\tag{6-3}\n",
    "$$\n",
    "\n",
    "其中$p_{i,k} \\not= 0$"
   ],
   "cell_type": "markdown",
   "metadata": {}
  },
  {
   "source": [
    "图6-1中的深度为2的左侧的节点的熵的计算如下：\n",
    "\n",
    "![图6-1](./6-1_files/iris_tree.png)"
   ],
   "cell_type": "markdown",
   "metadata": {}
  },
  {
   "source": [
    "$$- \\frac{49}{54} log_2( \\frac{49}{54}) -  \\frac{5}{54} log_2( \\frac{5}{54})  \\approx 0.445$$"
   ],
   "cell_type": "markdown",
   "metadata": {}
  },
  {
   "source": [
    "其实，大多数情况下，基尼不纯度和熵并没有什么大的不同，产生的树都很相似。基尼不纯度的计算速度略微快一些(**这是由于基尼不纯度无需计算log2**)，所以它是个不错的默认选择。它们的不同在于，基尼不纯度倾向于从树枝中分裂出最常见的类别，而熵则倾向于生产更平衡的树。\n",
    "\n",
    "关于二者的比较可以参考: https://sebastianraschka.com/faq/docs/decision-tree-binary.html"
   ],
   "cell_type": "markdown",
   "metadata": {}
  }
 ]
}